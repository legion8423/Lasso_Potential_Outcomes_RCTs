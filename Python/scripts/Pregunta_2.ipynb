{
 "cells": [
  {
   "cell_type": "code",
   "execution_count": 7,
   "id": "3313b530",
   "metadata": {},
   "outputs": [
    {
     "name": "stdout",
     "output_type": "stream",
     "text": [
      "Requirement already satisfied: openpyxl in c:\\users\\diego\\.conda\\envs\\streamlit\\lib\\site-packages (3.1.5)\n",
      "Requirement already satisfied: et-xmlfile in c:\\users\\diego\\.conda\\envs\\streamlit\\lib\\site-packages (from openpyxl) (2.0.0)\n",
      "Note: you may need to restart the kernel to use updated packages.\n"
     ]
    }
   ],
   "source": [
    "%pip install openpyxl"
   ]
  },
  {
   "cell_type": "code",
   "execution_count": 8,
   "id": "d8103336",
   "metadata": {},
   "outputs": [],
   "source": [
    "import pandas as pd\n",
    "import numpy as np\n",
    "import matplotlib.pyplot as plt \n",
    "import seaborn as sns\n",
    "import openpyxl\n",
    "import matplotlib.pyplot as plt\n",
    "import numpy as np\n",
    "from sklearn.linear_model import LassoCV, Lasso\n",
    "from sklearn.model_selection import KFold\n",
    "import random\n",
    "from sklearn.model_selection import train_test_split\n",
    "from sklearn.model_selection import cross_val_score, KFold\n",
    "from sklearn.metrics import r2_score\n",
    "from sklearn.linear_model import LassoCV, RidgeCV, LinearRegression\n",
    "import patsy\n",
    "import warnings"
   ]
  },
  {
   "cell_type": "markdown",
   "id": "407d0c7b",
   "metadata": {},
   "source": [
    "### Asignemnt 2\n"
   ]
  },
  {
   "cell_type": "markdown",
   "id": "00a4ae74",
   "metadata": {},
   "source": [
    "### Lasso (8 points)"
   ]
  },
  {
   "cell_type": "markdown",
   "id": "e9892506",
   "metadata": {},
   "source": [
    "In this assignment, you will estimate the female literacy rate in India using a LASSO model. Replicate the results from the script developed in Lab 4 in Python, R, and Julia. The data is available at CausalAI-Course/Data/Districtwise_literacy_rates.xlsx. To consult the description of each variable, please review Sheet 2 (Metadata) of the same file. You are free to select the variables you consider relevant for your models."
   ]
  },
  {
   "cell_type": "markdown",
   "id": "abed620d",
   "metadata": {},
   "source": [
    "0.25 points → Keep only the observations with no missing values"
   ]
  },
  {
   "cell_type": "code",
   "execution_count": 11,
   "id": "f3935112",
   "metadata": {},
   "outputs": [],
   "source": [
    "df = pd.read_excel('../input/Districtwise_literacy_rates.xlsx')"
   ]
  },
  {
   "cell_type": "code",
   "execution_count": 12,
   "id": "85cd9208",
   "metadata": {},
   "outputs": [
    {
     "data": {
      "text/plain": [
       "STATCD       0\n",
       "DISTCD       0\n",
       "STATNAME     0\n",
       "DISTNAME     0\n",
       "DISTRICTS    0\n",
       "            ..\n",
       "TCH3         0\n",
       "TCH4         0\n",
       "TCH5         0\n",
       "TCH6         0\n",
       "TCH7         0\n",
       "Length: 100, dtype: int64"
      ]
     },
     "execution_count": 12,
     "metadata": {},
     "output_type": "execute_result"
    }
   ],
   "source": [
    "df.isnull().sum()"
   ]
  },
  {
   "cell_type": "code",
   "execution_count": 13,
   "id": "0586b8e1",
   "metadata": {},
   "outputs": [],
   "source": [
    "df.dropna(inplace=True)"
   ]
  },
  {
   "cell_type": "code",
   "execution_count": 14,
   "id": "296b9aba",
   "metadata": {},
   "outputs": [
    {
     "data": {
      "text/plain": [
       "(625, 100)"
      ]
     },
     "execution_count": 14,
     "metadata": {},
     "output_type": "execute_result"
    }
   ],
   "source": [
    "df.shape"
   ]
  },
  {
   "cell_type": "code",
   "execution_count": 15,
   "id": "19747a52",
   "metadata": {},
   "outputs": [
    {
     "name": "stdout",
     "output_type": "stream",
     "text": [
      "Columnas eliminadas (solo ceros): ['SCH9', 'SCH9G', 'SCH9P', 'SCH9GR', 'SCH9PR']\n"
     ]
    }
   ],
   "source": [
    "# Eliminar columnas con solo ceros\n",
    "cols_zero = df.columns[(df == 0).all()]\n",
    "print(\"Columnas eliminadas (solo ceros):\", list(cols_zero))\n",
    "\n",
    "df = df.drop(columns=cols_zero)\n"
   ]
  },
  {
   "cell_type": "code",
   "execution_count": 16,
   "id": "691b9991",
   "metadata": {},
   "outputs": [
    {
     "data": {
      "text/plain": [
       "(625, 95)"
      ]
     },
     "execution_count": 16,
     "metadata": {},
     "output_type": "execute_result"
    }
   ],
   "source": [
    "df.shape"
   ]
  },
  {
   "cell_type": "code",
   "execution_count": 17,
   "id": "13b8fddb",
   "metadata": {},
   "outputs": [
    {
     "data": {
      "text/html": [
       "<div>\n",
       "<style scoped>\n",
       "    .dataframe tbody tr th:only-of-type {\n",
       "        vertical-align: middle;\n",
       "    }\n",
       "\n",
       "    .dataframe tbody tr th {\n",
       "        vertical-align: top;\n",
       "    }\n",
       "\n",
       "    .dataframe thead th {\n",
       "        text-align: right;\n",
       "    }\n",
       "</style>\n",
       "<table border=\"1\" class=\"dataframe\">\n",
       "  <thead>\n",
       "    <tr style=\"text-align: right;\">\n",
       "      <th></th>\n",
       "      <th>STATCD</th>\n",
       "      <th>DISTCD</th>\n",
       "      <th>STATNAME</th>\n",
       "      <th>DISTNAME</th>\n",
       "      <th>DISTRICTS</th>\n",
       "      <th>BLOCKS</th>\n",
       "      <th>VILLAGES</th>\n",
       "      <th>TOTPOPULAT</th>\n",
       "      <th>P_URB_POP</th>\n",
       "      <th>POPULATION_0_6</th>\n",
       "      <th>...</th>\n",
       "      <th>CLS5</th>\n",
       "      <th>CLS6</th>\n",
       "      <th>CLS7</th>\n",
       "      <th>TCH1</th>\n",
       "      <th>TCH2</th>\n",
       "      <th>TCH3</th>\n",
       "      <th>TCH4</th>\n",
       "      <th>TCH5</th>\n",
       "      <th>TCH6</th>\n",
       "      <th>TCH7</th>\n",
       "    </tr>\n",
       "  </thead>\n",
       "  <tbody>\n",
       "    <tr>\n",
       "      <th>0</th>\n",
       "      <td>1</td>\n",
       "      <td>101</td>\n",
       "      <td>JAMMU &amp; KASHMIR</td>\n",
       "      <td>KUPWARA</td>\n",
       "      <td>1</td>\n",
       "      <td>13</td>\n",
       "      <td>391</td>\n",
       "      <td>875564.0</td>\n",
       "      <td>11.33</td>\n",
       "      <td>197001.90</td>\n",
       "      <td>...</td>\n",
       "      <td>23</td>\n",
       "      <td>852</td>\n",
       "      <td>239</td>\n",
       "      <td>2708</td>\n",
       "      <td>5205</td>\n",
       "      <td>43</td>\n",
       "      <td>70</td>\n",
       "      <td>28</td>\n",
       "      <td>1065</td>\n",
       "      <td>638</td>\n",
       "    </tr>\n",
       "    <tr>\n",
       "      <th>1</th>\n",
       "      <td>1</td>\n",
       "      <td>102</td>\n",
       "      <td>JAMMU &amp; KASHMIR</td>\n",
       "      <td>BARAMULA</td>\n",
       "      <td>1</td>\n",
       "      <td>18</td>\n",
       "      <td>678</td>\n",
       "      <td>1015503.0</td>\n",
       "      <td>17.19</td>\n",
       "      <td>161871.18</td>\n",
       "      <td>...</td>\n",
       "      <td>30</td>\n",
       "      <td>1665</td>\n",
       "      <td>360</td>\n",
       "      <td>2937</td>\n",
       "      <td>5873</td>\n",
       "      <td>236</td>\n",
       "      <td>60</td>\n",
       "      <td>105</td>\n",
       "      <td>2533</td>\n",
       "      <td>964</td>\n",
       "    </tr>\n",
       "    <tr>\n",
       "      <th>2</th>\n",
       "      <td>1</td>\n",
       "      <td>103</td>\n",
       "      <td>JAMMU &amp; KASHMIR</td>\n",
       "      <td>SRINAGAR</td>\n",
       "      <td>1</td>\n",
       "      <td>8</td>\n",
       "      <td>94</td>\n",
       "      <td>1269751.0</td>\n",
       "      <td>98.73</td>\n",
       "      <td>155798.45</td>\n",
       "      <td>...</td>\n",
       "      <td>0</td>\n",
       "      <td>2873</td>\n",
       "      <td>40</td>\n",
       "      <td>828</td>\n",
       "      <td>3647</td>\n",
       "      <td>1159</td>\n",
       "      <td>14</td>\n",
       "      <td>0</td>\n",
       "      <td>4757</td>\n",
       "      <td>129</td>\n",
       "    </tr>\n",
       "    <tr>\n",
       "      <th>3</th>\n",
       "      <td>1</td>\n",
       "      <td>104</td>\n",
       "      <td>JAMMU &amp; KASHMIR</td>\n",
       "      <td>BADGAM</td>\n",
       "      <td>1</td>\n",
       "      <td>13</td>\n",
       "      <td>523</td>\n",
       "      <td>735753.0</td>\n",
       "      <td>11.74</td>\n",
       "      <td>150755.79</td>\n",
       "      <td>...</td>\n",
       "      <td>8</td>\n",
       "      <td>1035</td>\n",
       "      <td>325</td>\n",
       "      <td>1878</td>\n",
       "      <td>3892</td>\n",
       "      <td>250</td>\n",
       "      <td>68</td>\n",
       "      <td>19</td>\n",
       "      <td>1493</td>\n",
       "      <td>716</td>\n",
       "    </tr>\n",
       "    <tr>\n",
       "      <th>4</th>\n",
       "      <td>1</td>\n",
       "      <td>105</td>\n",
       "      <td>JAMMU &amp; KASHMIR</td>\n",
       "      <td>PULWAMA</td>\n",
       "      <td>1</td>\n",
       "      <td>8</td>\n",
       "      <td>359</td>\n",
       "      <td>570060.0</td>\n",
       "      <td>13.80</td>\n",
       "      <td>97651.28</td>\n",
       "      <td>...</td>\n",
       "      <td>5</td>\n",
       "      <td>1101</td>\n",
       "      <td>209</td>\n",
       "      <td>1336</td>\n",
       "      <td>2682</td>\n",
       "      <td>113</td>\n",
       "      <td>90</td>\n",
       "      <td>38</td>\n",
       "      <td>1414</td>\n",
       "      <td>506</td>\n",
       "    </tr>\n",
       "    <tr>\n",
       "      <th>5</th>\n",
       "      <td>1</td>\n",
       "      <td>106</td>\n",
       "      <td>JAMMU &amp; KASHMIR</td>\n",
       "      <td>ANANTNAG</td>\n",
       "      <td>1</td>\n",
       "      <td>12</td>\n",
       "      <td>523</td>\n",
       "      <td>1070144.0</td>\n",
       "      <td>26.04</td>\n",
       "      <td>206323.76</td>\n",
       "      <td>...</td>\n",
       "      <td>22</td>\n",
       "      <td>1592</td>\n",
       "      <td>185</td>\n",
       "      <td>2084</td>\n",
       "      <td>6182</td>\n",
       "      <td>261</td>\n",
       "      <td>74</td>\n",
       "      <td>95</td>\n",
       "      <td>2491</td>\n",
       "      <td>597</td>\n",
       "    </tr>\n",
       "    <tr>\n",
       "      <th>6</th>\n",
       "      <td>1</td>\n",
       "      <td>107</td>\n",
       "      <td>JAMMU &amp; KASHMIR</td>\n",
       "      <td>LEH (LADAKH)</td>\n",
       "      <td>1</td>\n",
       "      <td>6</td>\n",
       "      <td>110</td>\n",
       "      <td>147104.0</td>\n",
       "      <td>42.96</td>\n",
       "      <td>11812.45</td>\n",
       "      <td>...</td>\n",
       "      <td>17</td>\n",
       "      <td>473</td>\n",
       "      <td>0</td>\n",
       "      <td>470</td>\n",
       "      <td>1160</td>\n",
       "      <td>62</td>\n",
       "      <td>19</td>\n",
       "      <td>45</td>\n",
       "      <td>813</td>\n",
       "      <td>0</td>\n",
       "    </tr>\n",
       "    <tr>\n",
       "      <th>7</th>\n",
       "      <td>1</td>\n",
       "      <td>108</td>\n",
       "      <td>JAMMU &amp; KASHMIR</td>\n",
       "      <td>KARGIL</td>\n",
       "      <td>1</td>\n",
       "      <td>7</td>\n",
       "      <td>134</td>\n",
       "      <td>143388.0</td>\n",
       "      <td>8.89</td>\n",
       "      <td>20404.11</td>\n",
       "      <td>...</td>\n",
       "      <td>3</td>\n",
       "      <td>220</td>\n",
       "      <td>99</td>\n",
       "      <td>471</td>\n",
       "      <td>1582</td>\n",
       "      <td>90</td>\n",
       "      <td>44</td>\n",
       "      <td>17</td>\n",
       "      <td>274</td>\n",
       "      <td>288</td>\n",
       "    </tr>\n",
       "    <tr>\n",
       "      <th>8</th>\n",
       "      <td>1</td>\n",
       "      <td>109</td>\n",
       "      <td>JAMMU &amp; KASHMIR</td>\n",
       "      <td>DODA</td>\n",
       "      <td>1</td>\n",
       "      <td>10</td>\n",
       "      <td>388</td>\n",
       "      <td>409576.0</td>\n",
       "      <td>7.95</td>\n",
       "      <td>71020.48</td>\n",
       "      <td>...</td>\n",
       "      <td>36</td>\n",
       "      <td>766</td>\n",
       "      <td>36</td>\n",
       "      <td>1867</td>\n",
       "      <td>3010</td>\n",
       "      <td>266</td>\n",
       "      <td>41</td>\n",
       "      <td>172</td>\n",
       "      <td>1391</td>\n",
       "      <td>102</td>\n",
       "    </tr>\n",
       "    <tr>\n",
       "      <th>9</th>\n",
       "      <td>1</td>\n",
       "      <td>110</td>\n",
       "      <td>JAMMU &amp; KASHMIR</td>\n",
       "      <td>UDHAMPUR</td>\n",
       "      <td>1</td>\n",
       "      <td>11</td>\n",
       "      <td>361</td>\n",
       "      <td>555357.0</td>\n",
       "      <td>19.72</td>\n",
       "      <td>82637.12</td>\n",
       "      <td>...</td>\n",
       "      <td>22</td>\n",
       "      <td>1151</td>\n",
       "      <td>6</td>\n",
       "      <td>2159</td>\n",
       "      <td>3069</td>\n",
       "      <td>811</td>\n",
       "      <td>27</td>\n",
       "      <td>118</td>\n",
       "      <td>1638</td>\n",
       "      <td>32</td>\n",
       "    </tr>\n",
       "  </tbody>\n",
       "</table>\n",
       "<p>10 rows × 95 columns</p>\n",
       "</div>"
      ],
      "text/plain": [
       "   STATCD  DISTCD         STATNAME      DISTNAME  DISTRICTS  BLOCKS  VILLAGES  \\\n",
       "0       1     101  JAMMU & KASHMIR       KUPWARA          1      13       391   \n",
       "1       1     102  JAMMU & KASHMIR      BARAMULA          1      18       678   \n",
       "2       1     103  JAMMU & KASHMIR      SRINAGAR          1       8        94   \n",
       "3       1     104  JAMMU & KASHMIR        BADGAM          1      13       523   \n",
       "4       1     105  JAMMU & KASHMIR       PULWAMA          1       8       359   \n",
       "5       1     106  JAMMU & KASHMIR      ANANTNAG          1      12       523   \n",
       "6       1     107  JAMMU & KASHMIR  LEH (LADAKH)          1       6       110   \n",
       "7       1     108  JAMMU & KASHMIR        KARGIL          1       7       134   \n",
       "8       1     109  JAMMU & KASHMIR          DODA          1      10       388   \n",
       "9       1     110  JAMMU & KASHMIR      UDHAMPUR          1      11       361   \n",
       "\n",
       "   TOTPOPULAT  P_URB_POP  POPULATION_0_6  ...  CLS5  CLS6  CLS7  TCH1  TCH2  \\\n",
       "0    875564.0      11.33       197001.90  ...    23   852   239  2708  5205   \n",
       "1   1015503.0      17.19       161871.18  ...    30  1665   360  2937  5873   \n",
       "2   1269751.0      98.73       155798.45  ...     0  2873    40   828  3647   \n",
       "3    735753.0      11.74       150755.79  ...     8  1035   325  1878  3892   \n",
       "4    570060.0      13.80        97651.28  ...     5  1101   209  1336  2682   \n",
       "5   1070144.0      26.04       206323.76  ...    22  1592   185  2084  6182   \n",
       "6    147104.0      42.96        11812.45  ...    17   473     0   470  1160   \n",
       "7    143388.0       8.89        20404.11  ...     3   220    99   471  1582   \n",
       "8    409576.0       7.95        71020.48  ...    36   766    36  1867  3010   \n",
       "9    555357.0      19.72        82637.12  ...    22  1151     6  2159  3069   \n",
       "\n",
       "   TCH3  TCH4  TCH5  TCH6  TCH7  \n",
       "0    43    70    28  1065   638  \n",
       "1   236    60   105  2533   964  \n",
       "2  1159    14     0  4757   129  \n",
       "3   250    68    19  1493   716  \n",
       "4   113    90    38  1414   506  \n",
       "5   261    74    95  2491   597  \n",
       "6    62    19    45   813     0  \n",
       "7    90    44    17   274   288  \n",
       "8   266    41   172  1391   102  \n",
       "9   811    27   118  1638    32  \n",
       "\n",
       "[10 rows x 95 columns]"
      ]
     },
     "execution_count": 17,
     "metadata": {},
     "output_type": "execute_result"
    }
   ],
   "source": [
    "df.head(10)"
   ]
  },
  {
   "cell_type": "code",
   "execution_count": 18,
   "id": "7a12b3a5",
   "metadata": {},
   "outputs": [
    {
     "data": {
      "text/plain": [
       "array(['JAMMU & KASHMIR', 'HIMACHAL PRADESH', 'PUNJAB', 'CHANDIGARH',\n",
       "       'UTTARAKHAND', 'HARYANA', 'DELHI', 'RAJASTHAN', 'UTTAR PRADESH',\n",
       "       'BIHAR', 'SIKKIM', 'ARUNACHAL PRADESH', 'NAGALAND', 'MANIPUR',\n",
       "       'MIZORAM', 'TRIPURA', 'MEGHALAYA', 'ASSAM', 'WEST BENGAL',\n",
       "       'JHARKHAND', 'ODISHA', 'CHHATTISGARH', 'MADHYA PRADESH', 'GUJARAT',\n",
       "       'DAMAN & DIU', 'DADRA & NAGAR HAVELI', 'MAHARASHTRA',\n",
       "       'ANDHRA PRADESH', 'KARNATAKA', 'GOA', 'LAKSHADWEEP', 'KERALA',\n",
       "       'TAMIL NADU', 'PUDUCHERRY', 'A & N ISLANDS', 'TELANGANA'],\n",
       "      dtype=object)"
      ]
     },
     "execution_count": 18,
     "metadata": {},
     "output_type": "execute_result"
    }
   ],
   "source": [
    "df.STATNAME.unique()"
   ]
  },
  {
   "cell_type": "code",
   "execution_count": 19,
   "id": "3decd1db",
   "metadata": {},
   "outputs": [
    {
     "data": {
      "text/plain": [
       "array(['KUPWARA', 'BARAMULA', 'SRINAGAR', 'BADGAM', 'PULWAMA', 'ANANTNAG',\n",
       "       'LEH (LADAKH)', 'KARGIL', 'DODA', 'UDHAMPUR', 'PUNCH', 'RAJAURI',\n",
       "       'JAMMU', 'KATHUA', 'SHOPIAN', 'BANDIPORA', 'KISHTWAR', 'RAMBAN',\n",
       "       'GANDERBAL', 'KULGAM', 'REASI', 'SAMBA', 'CHAMBA', 'KANGRA',\n",
       "       'KULLU', 'MANDI', 'HAMIRPUR (H.P.)', 'UNA', 'BILASPUR (H.P.)',\n",
       "       'SOLAN', 'SIRMAUR', 'SHIMLA', 'GURDASPUR', 'AMRITSAR',\n",
       "       'KAPURTHALA', 'JALANDHAR', 'HOSHIARPUR', 'NAWANSHAHR', 'RUPNAGAR',\n",
       "       'FATEHGARH SAHIB', 'LUDHIANA', 'MOGA', 'FIROZPUR', 'MUKTSAR',\n",
       "       'FARIDKOT', 'BATHINDA', 'MANSA', 'SANGRUR', 'PATIALA', 'MOHALI',\n",
       "       'TARAN TARAN', 'BARNALA', 'CHANDIGARH', 'UTTARKASHI', 'CHAMOLI',\n",
       "       'RUDRAPRAYAG', 'TEHRI GARHWAL', 'DEHRADUN', 'GARHWAL',\n",
       "       'PITHORAGARH', 'BAGESHWAR', 'ALMORA', 'CHAMPAWAT', 'NAINITAL',\n",
       "       'UDHAM SINGH NAGAR', 'HARDWAR', 'PANCHKULA', 'AMBALA',\n",
       "       'YAMUNANAGAR', 'KURUKSHETRA', 'KAITHAL', 'KARNAL', 'PANIPAT',\n",
       "       'SONIPAT', 'JIND', 'FATEHABAD', 'SIRSA', 'HISAR', 'BHIWANI',\n",
       "       'ROHTAK', 'JHAJJAR', 'MAHENDRAGARH', 'REWARI', 'GURGAON',\n",
       "       'FARIDABAD', 'MEWAT', 'PALWAL', 'NORTH WEST DELHI', 'NORTH DELHI',\n",
       "       'NORTH EAST DELHI', 'EAST DELHI', 'NEW DELHI', 'CENTRAL DELHI',\n",
       "       'WEST DELHI', 'SOUTH WEST DELHI', 'SOUTH DELHI', 'GANGANAGAR',\n",
       "       'HANUMANGARH', 'BIKANER', 'CHURU', 'JHUNJHUNUN', 'ALWAR',\n",
       "       'BHARATPUR', 'DHAULPUR', 'KARAULI', 'SAWAI MADHOPUR', 'Dausa',\n",
       "       'JAIPUR', 'SIKAR', 'NAGAUR', 'JODHPUR', 'JAISALMER', 'BARMER',\n",
       "       'JALOR', 'SIROHI', 'PALI', 'AJMER', 'TONK', 'BUNDI', 'BHILWARA',\n",
       "       'RAJSAMAND', 'UDAIPUR', 'DUNGARPUR', 'BANSWARA', 'CHITTAURGARH',\n",
       "       'KOTA', 'BARAN', 'JHALAWAR', 'PRATAPGARH (RAJ.)', 'SAHARANPUR',\n",
       "       'MUZAFFARNAGAR', 'BIJNOR', 'MORADABAD', 'RAMPUR',\n",
       "       'JYOTIBA PHULE NAGAR', 'MEERUT', 'BAGHPAT', 'GHAZIABAD',\n",
       "       'GAUTAM BUDDHA NAGAR', 'BULANDSHAHR', 'ALIGARH', 'HATHRAS',\n",
       "       'MATHURA', 'AGRA', 'FIROZABAD', 'ETAH', 'MAINPURI', 'BUDAUN',\n",
       "       'BAREILLY', 'PILIBHIT', 'SHAHJAHANPUR', 'KHERI', 'SITAPUR',\n",
       "       'HARDOI', 'UNNAO', 'LUCKNOW', 'RAE BARELI', 'FARRUKHABAD',\n",
       "       'KANNAUJ', 'ETAWAH', 'AURAIYA', 'KANPUR NAGAR', 'JALAUN', 'JHANSI',\n",
       "       'LALITPUR', 'HAMIRPUR (U.P.)', 'MAHOBA', 'BANDA', 'CHITRAKOOT',\n",
       "       'FATEHPUR', 'PRATAPGARH', 'KAUSHAMBI', 'ALLAHABAD', 'BARABANKI',\n",
       "       'FAIZABAD', 'AMBEDKAR NAGAR', 'Sultanpur', 'BAHRAICH', 'SHRAWASTI',\n",
       "       'BALRAMPUR (U.P)', 'GONDA', 'SIDDHARTHNAGAR', 'BASTI',\n",
       "       'SANT KABIR NAGAR', 'MAHARAJGANJ', 'GORAKHPUR', 'KUSHINAGAR',\n",
       "       'DEORIA', 'AZAMGARH', 'MAU', 'BALLIA', 'JAUNPUR', 'GHAZIPUR',\n",
       "       'CHANDAULI', 'VARANASI', 'MIRZAPUR', 'SONBHADRA', 'BHADOI',\n",
       "       'KANSHIRAM NAGAR', 'PASHCHIM CHAMPARAN', 'PURBA CHAMPARAN',\n",
       "       'SHEOHAR', 'SITAMARHI', 'MADHUBANI', 'SUPAUL', 'ARARIA',\n",
       "       'KISHANGANJ', 'PURNIA', 'KATIHAR', 'MADHEPURA', 'SAHARSA',\n",
       "       'DARBHANGA', 'MUZAFFARPUR', 'GOPALGANJ', 'SIWAN', 'SARAN',\n",
       "       'VAISHALI', 'SAMASTIPUR', 'BEGUSARAI', 'KHAGARIA', 'BHAGALPUR',\n",
       "       'BANKA', 'MUNGER', 'LAKHISARAI', 'SHEIKHPURA', 'NALANDA', 'PATNA',\n",
       "       'BHOJPUR', 'BUXAR', 'KAIMUR (BHABUA)', 'ROHTAS', 'JEHANABAD',\n",
       "       'AURANGABAD (BIHAR)', 'GAYA', 'NAWADA', 'JAMUI', 'ARWAL',\n",
       "       'NORTH SIKKIM', 'WEST SIKKIM', 'SOUTH SIKKIM', 'EAST SIKKIM',\n",
       "       'TAWANG', 'WEST KAMENG', 'EAST KAMENG', 'PAPUM PARE',\n",
       "       'LOWER SUBANSIRI', 'UPPER SUBANSIRI', 'WEST SIANG', 'EAST SIANG',\n",
       "       'UPPER SIANG', 'DIBANG VALLEY', 'LOHIT', 'CHANGLANG', 'TIRAP',\n",
       "       'KURUNG KUMEY', 'LOWER DIBANG VALLEY', 'Anjaw', 'MON', 'TUENSANG',\n",
       "       'MOKOKCHUNG', 'ZUNHEBOTO', 'WOKHA', 'DIMAPUR', 'KOHIMA', 'PHEK',\n",
       "       'LONGLENG', 'KIPHIRE', 'PEREN', 'SENAPATI', 'TAMENGLONG',\n",
       "       'CHURACHANDPUR', 'BISHNUPUR', 'THOUBAL', 'IMPHAL WEST',\n",
       "       'IMPHAL EAST', 'UKHRUL', 'CHANDEL', 'MAMIT', 'KOLASIB', 'AIZAWL',\n",
       "       'CHAMPHAI', 'SERCHHIP', 'LUNGLEI', 'LAWNGTLAI', 'SAIHA',\n",
       "       'WEST TRIPURA', 'SOUTH TRIPURA', 'DHALAI', 'NORTH TRIPURA',\n",
       "       'WEST GARO HILLS', 'EAST GARO HILLS', 'SOUTH GARO HILLS',\n",
       "       'WEST KHASI HILLS', 'RI BHOI', 'EAST KHASI HILLS', 'JAINTIA HILLS',\n",
       "       'KOKRAJHAR', 'DHUBRI', 'GOALPARA', 'BONGAIGAON', 'BARPETA',\n",
       "       'KAMRUP-RURAL', 'NALBARI', 'DARRANG', 'MORIGAON', 'NAGAON',\n",
       "       'SONITPUR', 'LAKHIMPUR', 'DHEMAJI', 'TINSUKIA', 'DIBRUGARH',\n",
       "       'SIBSAGAR', 'JORHAT', 'GOLAGHAT', 'KARBI ANGLONG', 'DIMA HASAO',\n",
       "       'CACHAR', 'KARIMGANJ', 'HAILAKANDI', 'BAKSA', 'CHIRANG',\n",
       "       'UDALGURI', 'KAMRUP-METRO', 'DARJILING', 'JALPAIGURI',\n",
       "       'KOCH BIHAR', 'UTTAR DINAJPUR', 'DAKSHIN DINAJPUR', 'MALDAH',\n",
       "       'MURSHIDABAD', 'BIRBHUM', 'BARDDHAMAN', 'NADIA',\n",
       "       'NORTH TWENTY FOUR PARGANAS', 'HUGLI', 'BANKURA', 'PURULIYA',\n",
       "       'HAORA', 'KOLKATA', 'SOUTH  TWENTY FOUR PARGANAS',\n",
       "       'PURBA MEDINIPUR', 'PASCHIM MEDINIPUR', 'GARHWA', 'PALAMU',\n",
       "       'CHATRA', 'HAZARIBAG', 'KODARMA', 'GIRIDIH', 'DEOGHAR', 'GODDA',\n",
       "       'SAHIBGANJ', 'PAKAUR', 'DUMKA', 'DHANBAD', 'BOKARO', 'RANCHI',\n",
       "       'LOHARDAGA', 'GUMLA', 'PASHCHIMI SINGHBHUM', 'PURBI SINGHBHUM',\n",
       "       'JAMTARA', 'SARAIKELA-KHARSAWAN', 'SIMDEGA', 'LATEHAR', 'KHUNTI',\n",
       "       'RAMGARH', 'DEOGARH', 'SUNDERGARH', 'KEONJHAR', 'MAYURBHANJ',\n",
       "       'BALASORE', 'BHADRAK', 'KENDRAPARA', 'JAGATSINGHPUR', 'CUTTACK',\n",
       "       'JAJPUR', 'DHENKANAL', 'ANGUL', 'NAYAGARH', 'KHORDHA', 'PURI',\n",
       "       'GANJAM', 'GAJAPATI', 'KANDHAMAL', 'BOUDH', 'SONEPUR', 'BOLANGIR',\n",
       "       'NUAPADA', 'KALAHANDI', 'RAYAGADA', 'NABARANGPUR', 'KORAPUT',\n",
       "       'MALKANGIRI', 'KORIYA', 'SURGUJA', 'JASHPUR',\n",
       "       'RAIGARH (CHHATTISGARH)', 'KORBA', 'JANJGIR - CHAMPA',\n",
       "       'BILASPUR (CHHATTISGARH)', 'KAWARDHA', 'RAJNANDGAON', 'DURG',\n",
       "       'RAIPUR', 'MAHASAMUND', 'DHAMTARI', 'KANKER', 'BASTER',\n",
       "       'DANTEWADA', 'SHEOPUR', 'MORENA', 'BHIND', 'GWALIOR', 'DATIA',\n",
       "       'SHIVPURI', 'GUNA', 'TIKAMGARH', 'CHHATARPUR', 'PANNA', 'SAGAR',\n",
       "       'DAMOH', 'SATNA', 'REWA', 'UMARIA', 'SHAHDOL', 'SIDHI', 'NEEMUCH',\n",
       "       'MANDSAUR', 'RATLAM', 'UJJAIN', 'SHAJAPUR', 'DEWAS', 'JHABUA',\n",
       "       'DHAR', 'INDORE', 'KHARGONE', 'BARWANI', 'KHANDWA', 'RAJGARH',\n",
       "       'VIDISHA', 'BHOPAL', 'SEHORE', 'RAISEN', 'BETUL', 'HARDA',\n",
       "       'HOSHANGABAD', 'KATNI', 'JABALPUR', 'NARSIMHAPUR', 'DINDORI',\n",
       "       'MANDLA', 'CHHINDWARA', 'SEONI', 'BALAGHAT', 'ASHOKNAGAR',\n",
       "       'ANUPPUR', 'BURHANPUR', 'ALIRAJPUR', 'SINGRAULI', 'KACHCHH',\n",
       "       'BANAS KANTHA', 'PATAN', 'MAHESANA', 'SABAR KANTHA', 'GANDHINAGAR',\n",
       "       'AHMEDABAD', 'SURENDRANAGAR', 'RAJKOT', 'JAMNAGAR', 'PORBANDAR',\n",
       "       'JUNAGADH', 'AMRELI', 'BHAVNAGAR', 'ANAND', 'KHEDA',\n",
       "       'PANCH MAHALS', 'DOHAD', 'VADODARA', 'NARMADA', 'BHARUCH', 'SURAT',\n",
       "       'THE DANGS', 'NAVSARI', 'VALSAD', 'TAPI', 'DIU', 'DAMAN',\n",
       "       'DADRA AND NAGAR HAVELI(UT)', 'NANDURBAR', 'DHULE', 'JALGAON',\n",
       "       'BULDANA', 'AKOLA', 'WASHIM', 'AMRAVATI', 'WARDHA', 'NAGPUR',\n",
       "       'BHANDARA', 'GONDIYA', 'GADCHIROLI', 'CHANDRAPUR', 'YAVATMAL',\n",
       "       'NANDED', 'HINGOLI', 'PARBHANI', 'JALNA',\n",
       "       'AURANGABAD (MAHARASHTRA)', 'NASHIK', 'THANE', 'MUMBAI (SUBURBAN)',\n",
       "       'MUMBAI II', 'RAIGARH (MAHARASHTRA)', 'PUNE', 'AHMADNAGAR', 'BID',\n",
       "       'LATUR', 'OSMANABAD', 'SOLAPUR', 'SATARA', 'RATNAGIRI',\n",
       "       'SINDHUDURG', 'KOLHAPUR', 'SANGLI', 'SRIKAKULAM', 'VIZIANAGARAM',\n",
       "       'VISAKHAPATNAM', 'EAST GODAVARI', 'WEST GODAVARI', 'KRISHNA',\n",
       "       'GUNTUR', 'PRAKASAM', 'NELLORE', 'Kadapa', 'KURNOOL', 'ANANTAPUR',\n",
       "       'CHITTOOR', 'BAGALKOT', 'BIJAPUR (KARNATAKA)', 'BIDAR', 'RAICHUR',\n",
       "       'KOPPAL', 'GADAG', 'DHARWAD', 'HAVERI', 'BELLARY', 'CHITRADURGA',\n",
       "       'DAVANAGERE', 'SHIMOGA', 'UDUPI', 'CHIKKAMANGALORE', 'KOLAR',\n",
       "       'BANGALORE RURAL', 'MANDYA', 'HASSAN', 'DAKSHINA KANNADA',\n",
       "       'KODAGU', 'MYSORE', 'CHAMARAJANAGARA', 'CHIKKABALLAPURA',\n",
       "       'RAMANAGARA', 'YADAGIRI', 'NORTH GOA', 'SOUTH GOA', 'LAKSHADWEEP',\n",
       "       'KASARAGOD', 'KANNUR', 'WAYANAD', 'KOZHIKODE', 'MALAPPURAM',\n",
       "       'PALAKKAD', 'THRISSUR', 'ERNAKULAM', 'IDUKKI', 'KOTTAYAM',\n",
       "       'ALAPPUZHA', 'PATHANAMTHITTA', 'KOLLAM', 'THIRUVANANTHAPURAM',\n",
       "       'THIRUVALLUR', 'CHENNAI', 'KANCHEEPURAM', 'VELLORE', 'DHARMAPURI',\n",
       "       'TIRUVANNAMALAI', 'VILUPPURAM', 'SALEM', 'NAMAKKAL', 'ERODE',\n",
       "       'THE NILGIRIS', 'COIMBATORE', 'DINDIGUL', 'KARUR',\n",
       "       'TIRUCHIRAPPALLI', 'PERAMBALUR', 'CUDDALORE', 'NAGAPATTINAM',\n",
       "       'THIRUVARUR', 'THANJAVUR', 'PUDUKKOTTAI', 'SIVAGANGA', 'MADURAI',\n",
       "       'THENI', 'VIRUDHUNAGAR', 'RAMANATHAPURAM', 'THOOTHUKKUDI',\n",
       "       'TIRUNELVELI', 'KANNIYAKUMARI', 'KRISHANAGIRI', 'YANAM',\n",
       "       'PONDICHERRY', 'MAHE', 'KARAIKAL', 'ANDAMANS', 'NICOBARS',\n",
       "       'MIDDLE AND NORTH ANDAMANS', 'ADILABAD', 'NIZAMABAD', 'KARIMNAGAR',\n",
       "       'MEDAK', 'HYDERABAD', 'RANGA REDDY', 'MAHBUBNAGAR', 'NALGONDA',\n",
       "       'WARANGAL', 'KHAMMAM'], dtype=object)"
      ]
     },
     "execution_count": 19,
     "metadata": {},
     "output_type": "execute_result"
    }
   ],
   "source": [
    "df.DISTNAME.unique()"
   ]
  },
  {
   "cell_type": "code",
   "execution_count": 20,
   "id": "ff00611f",
   "metadata": {},
   "outputs": [
    {
     "name": "stdout",
     "output_type": "stream",
     "text": [
      "Forma después de limpiar: (625, 88)\n"
     ]
    }
   ],
   "source": [
    "# Columnas a eliminar (IDs / estructurales)\n",
    "# Las elimino porque no aportan valor analítico a la predicción se tendria que convertir en \n",
    "# dummies pero hay muchas categorias y poco datos, y para VILLAGES y BLOCKS mejor esta la población total.\n",
    "cols_to_drop = [\n",
    "    \"STATCD\", \n",
    "    \"DISTCD\", \n",
    "    \"STATNAME\", \n",
    "    \"DISTNAME\", \n",
    "    \"DISTRICTS\", \n",
    "    \"BLOCKS\", \n",
    "    \"VILLAGES\"\n",
    "]\n",
    "df = df.drop(columns=cols_to_drop)\n",
    "print(\"Forma después de limpiar:\", df.shape)"
   ]
  },
  {
   "cell_type": "code",
   "execution_count": 21,
   "id": "a5e142b7",
   "metadata": {},
   "outputs": [
    {
     "data": {
      "text/plain": [
       "(625, 88)"
      ]
     },
     "execution_count": 21,
     "metadata": {},
     "output_type": "execute_result"
    }
   ],
   "source": [
    "df.shape\n"
   ]
  },
  {
   "cell_type": "markdown",
   "id": "d769f21a",
   "metadata": {},
   "source": [
    "1 point → Create a histogram of the female and male literacy rate and comment briefly on its distribution."
   ]
  },
  {
   "cell_type": "code",
   "execution_count": 22,
   "id": "5383de74",
   "metadata": {},
   "outputs": [
    {
     "data": {
      "image/png": "[encoded data removed]",
      "text/plain": [
       "<Figure size 1200x500 with 2 Axes>"
      ]
     },
     "metadata": {},
     "output_type": "display_data"
    }
   ],
   "source": [
    "\n",
    "fig, ax = plt.subplots(1, 2, figsize=(12,5))\n",
    "\n",
    "df['FEMALE_LIT'].hist(bins=20, ax=ax[0], color='grey', edgecolor='black')\n",
    "ax[0].set_title(\"Distribución de la alfabetización femenina (%)\")\n",
    "ax[0].set_xlabel(\"Tasa de alfabetización femenina\")\n",
    "ax[0].set_ylabel(\"Frecuencia\")\n",
    "\n",
    "df['MALE_LIT'].hist(bins=20, ax=ax[1], color='grey', edgecolor='black')\n",
    "ax[1].set_title(\"Distribución de la alfabetización masculina (%)\")\n",
    "ax[1].set_xlabel(\"Tasa de alfabetización masculina\")\n",
    "ax[1].set_ylabel(\"Frecuencia\")\n",
    "\n",
    "plt.tight_layout()\n",
    "plt.show()\n"
   ]
  },
  {
   "cell_type": "markdown",
   "id": "1fcee467",
   "metadata": {},
   "source": [
    "La tasa de alfabetización femenina presenta una distribución cercana a la normal, con mayor concentración en el rango del 60% al 65%. No obstante, se observa una cola izquierda más cargada, lo que indica que existen varios distritos con tasas de alfabetización femenina bajas, por otro lado, la alfabetización masculina se concentra principalmente entre el 80% y 90%, mostrando un sesgo hacia valores más altos. Esto refleja que, en promedio, los hombres alcanzan mayores niveles de alfabetización que las mujeres, evidenciando clara disparidad de género."
   ]
  },
  {
   "cell_type": "code",
   "execution_count": 23,
   "id": "fbf58840",
   "metadata": {},
   "outputs": [],
   "source": [
    "df.drop(columns=['OVERALL_LI','MALE_LIT'], inplace=True)"
   ]
  },
  {
   "cell_type": "code",
   "execution_count": null,
   "id": "d6f66bb4",
   "metadata": {},
   "outputs": [
    {
     "data": {
      "text/plain": [
       "(625, 86)"
      ]
     },
     "execution_count": 18,
     "metadata": {},
     "output_type": "execute_result"
    }
   ],
   "source": [
    "df.shape"
   ]
  },
  {
   "cell_type": "code",
   "execution_count": 24,
   "id": "f6869017",
   "metadata": {},
   "outputs": [],
   "source": [
    "# --- Usar lista fija de 20 variables en lugar de las 20 más correlacionadas ---\n",
    "vars20 = [\n",
    "    \"TOTPOPULAT\",\"P_URB_POP\",\"GROWTHRATE\",\"SEXRATIO\",\"AREA_SQKM\",\n",
    "    \"SCHTOT\",\"SCH1\",\"SCH6\",\"SCHTOTG\",\"TOT_11_13_15\",\"SCOMP5\",\n",
    "    \"SCH1GR\",\"SCH6GR\",\"SCH1PR\",\"SCH6PR\",\n",
    "    \"ENR501\",\"ENR506\",\"ENR509\",\n",
    "    \"TCH1\",\"TCH6\"\n",
    "]\n",
    "\n",
    "# Mantener compatibilidad con el resto del código: usar el mismo nombre top_vars\n",
    "top_vars = [c for c in vars20 if c in df.columns]"
   ]
  },
  {
   "cell_type": "code",
   "execution_count": 25,
   "id": "ede5c71a",
   "metadata": {},
   "outputs": [],
   "source": [
    "formula = \"0 + \" + \" + \".join(top_vars)\n",
    "Zbase = patsy.dmatrix(formula, df, return_type=\"dataframe\")\n",
    "y = df[\"FEMALE_LIT\"]\n"
   ]
  },
  {
   "cell_type": "code",
   "execution_count": 26,
   "id": "af7decca",
   "metadata": {},
   "outputs": [],
   "source": [
    "# 3) Definir X e y\n",
    "X = df[top_vars]\n",
    "\n",
    "# 4) Train/test split\n",
    "X_train, X_test, y_train, y_test = train_test_split( X, y, test_size=0.25, random_state=123)"
   ]
  },
  {
   "cell_type": "code",
   "execution_count": 27,
   "id": "a468c928",
   "metadata": {},
   "outputs": [],
   "source": [
    "# 5) Ajustar modelo low-dimensional (OLS)\n",
    "lr_base = LinearRegression().fit(X_train, y_train)"
   ]
  },
  {
   "cell_type": "code",
   "execution_count": 28,
   "id": "3b18665b",
   "metadata": {},
   "outputs": [
    {
     "name": "stdout",
     "output_type": "stream",
     "text": [
      "0.4901\n"
     ]
    }
   ],
   "source": [
    "r2_base = 1 - np.mean((y_test - lr_base.predict(X_test))**2) / np.var(y_test)\n",
    "print(f'{r2_base:.4f}')"
   ]
  },
  {
   "cell_type": "code",
   "execution_count": 29,
   "id": "7c610c25",
   "metadata": {},
   "outputs": [
    {
     "name": "stdout",
     "output_type": "stream",
     "text": [
      "0.5161\n"
     ]
    }
   ],
   "source": [
    "cv = KFold(n_splits=5, shuffle=True, random_state=123)\n",
    "rsquares = cross_val_score(LinearRegression(), X, y, scoring='r2', cv=cv)\n",
    "print(f'{np.mean(rsquares):.4f}')"
   ]
  },
  {
   "cell_type": "markdown",
   "id": "6abe36bf",
   "metadata": {},
   "source": [
    "2 points → Estimate a high-dimensional (flexible) specification: interaction terms and squared terms and compute the (R^2) on the test set"
   ]
  },
  {
   "cell_type": "code",
   "execution_count": 30,
   "id": "2f4fefa1",
   "metadata": {},
   "outputs": [
    {
     "name": "stdout",
     "output_type": "stream",
     "text": [
      "Forma de la matriz flexible: (625, 210)\n"
     ]
    }
   ],
   "source": [
    "# Fórmula flexible con interacciones y términos cuadráticos\n",
    "formula_flex = \"0 + (\" + \" + \".join(top_vars) + \")**2\"\n",
    "\n",
    "# Construir matriz de diseño\n",
    "Zflex = patsy.dmatrix(formula_flex, df, return_type='dataframe')\n",
    "y = df[\"FEMALE_LIT\"]\n",
    "\n",
    "print(\"Forma de la matriz flexible:\", Zflex.shape)"
   ]
  },
  {
   "cell_type": "code",
   "execution_count": 31,
   "id": "054339f9",
   "metadata": {},
   "outputs": [],
   "source": [
    "X_train, X_test, y_train, y_test = train_test_split(Zflex, y, test_size=0.25, random_state=123)"
   ]
  },
  {
   "cell_type": "code",
   "execution_count": 32,
   "id": "6f375ddd",
   "metadata": {},
   "outputs": [],
   "source": [
    "lr_flex = LinearRegression().fit(X_train, y_train)"
   ]
  },
  {
   "cell_type": "code",
   "execution_count": 33,
   "id": "65622547",
   "metadata": {},
   "outputs": [
    {
     "name": "stdout",
     "output_type": "stream",
     "text": [
      "Flexible model R^2 (OLS):  -28.0382\n"
     ]
    }
   ],
   "source": [
    "print('Flexible model R^2 (OLS): ', f'{r2_score(y_test, lr_flex.predict(X_test)):.4f}')"
   ]
  },
  {
   "cell_type": "code",
   "execution_count": 34,
   "id": "e8f14810",
   "metadata": {},
   "outputs": [],
   "source": [
    "from sklearn.preprocessing import StandardScaler\n",
    "Zflex = StandardScaler().fit_transform(Zflex)"
   ]
  },
  {
   "cell_type": "code",
   "execution_count": 36,
   "id": "9364f752",
   "metadata": {},
   "outputs": [
    {
     "name": "stdout",
     "output_type": "stream",
     "text": [
      "Flexible model R^2 (Lasso):  0.4793\n"
     ]
    }
   ],
   "source": [
    "cv = KFold(n_splits=5, shuffle=True, random_state=123)\n",
    "rsquares = cross_val_score(LassoCV(cv=cv), Zflex, y, scoring='r2', cv=cv, n_jobs=-1)\n",
    "print('Flexible model R^2 (Lasso): ', f'{np.mean(rsquares):.4f}')"
   ]
  },
  {
   "cell_type": "markdown",
   "id": "122b6256",
   "metadata": {},
   "source": [
    "2.75 points → For λ ranging from 10,000 down to 0.001, plot the path of the number of nonzero coefficients and briefly comment on the result."
   ]
  },
  {
   "cell_type": "code",
   "execution_count": 37,
   "id": "18e8123a",
   "metadata": {},
   "outputs": [
    {
     "name": "stderr",
     "output_type": "stream",
     "text": [
      "c:\\Users\\diego\\.conda\\envs\\streamlit\\Lib\\site-packages\\sklearn\\linear_model\\_coordinate_descent.py:695: ConvergenceWarning: Objective did not converge. You might want to increase the number of iterations, check the scale of the features or consider increasing regularisation. Duality gap: 1.247e+04, tolerance: 7.370e+00\n",
      "  model = cd_fast.enet_coordinate_descent(\n",
      "c:\\Users\\diego\\.conda\\envs\\streamlit\\Lib\\site-packages\\sklearn\\linear_model\\_coordinate_descent.py:695: ConvergenceWarning: Objective did not converge. You might want to increase the number of iterations, check the scale of the features or consider increasing regularisation. Duality gap: 1.223e+04, tolerance: 7.370e+00\n",
      "  model = cd_fast.enet_coordinate_descent(\n",
      "c:\\Users\\diego\\.conda\\envs\\streamlit\\Lib\\site-packages\\sklearn\\linear_model\\_coordinate_descent.py:695: ConvergenceWarning: Objective did not converge. You might want to increase the number of iterations, check the scale of the features or consider increasing regularisation. Duality gap: 1.199e+04, tolerance: 7.370e+00\n",
      "  model = cd_fast.enet_coordinate_descent(\n",
      "c:\\Users\\diego\\.conda\\envs\\streamlit\\Lib\\site-packages\\sklearn\\linear_model\\_coordinate_descent.py:695: ConvergenceWarning: Objective did not converge. You might want to increase the number of iterations, check the scale of the features or consider increasing regularisation. Duality gap: 1.175e+04, tolerance: 7.370e+00\n",
      "  model = cd_fast.enet_coordinate_descent(\n",
      "c:\\Users\\diego\\.conda\\envs\\streamlit\\Lib\\site-packages\\sklearn\\linear_model\\_coordinate_descent.py:695: ConvergenceWarning: Objective did not converge. You might want to increase the number of iterations, check the scale of the features or consider increasing regularisation. Duality gap: 1.151e+04, tolerance: 7.370e+00\n",
      "  model = cd_fast.enet_coordinate_descent(\n",
      "c:\\Users\\diego\\.conda\\envs\\streamlit\\Lib\\site-packages\\sklearn\\linear_model\\_coordinate_descent.py:695: ConvergenceWarning: Objective did not converge. You might want to increase the number of iterations, check the scale of the features or consider increasing regularisation. Duality gap: 1.126e+04, tolerance: 7.370e+00\n",
      "  model = cd_fast.enet_coordinate_descent(\n",
      "c:\\Users\\diego\\.conda\\envs\\streamlit\\Lib\\site-packages\\sklearn\\linear_model\\_coordinate_descent.py:695: ConvergenceWarning: Objective did not converge. You might want to increase the number of iterations, check the scale of the features or consider increasing regularisation. Duality gap: 1.103e+04, tolerance: 7.370e+00\n",
      "  model = cd_fast.enet_coordinate_descent(\n",
      "c:\\Users\\diego\\.conda\\envs\\streamlit\\Lib\\site-packages\\sklearn\\linear_model\\_coordinate_descent.py:695: ConvergenceWarning: Objective did not converge. You might want to increase the number of iterations, check the scale of the features or consider increasing regularisation. Duality gap: 1.081e+04, tolerance: 7.370e+00\n",
      "  model = cd_fast.enet_coordinate_descent(\n",
      "c:\\Users\\diego\\.conda\\envs\\streamlit\\Lib\\site-packages\\sklearn\\linear_model\\_coordinate_descent.py:695: ConvergenceWarning: Objective did not converge. You might want to increase the number of iterations, check the scale of the features or consider increasing regularisation. Duality gap: 1.060e+04, tolerance: 7.370e+00\n",
      "  model = cd_fast.enet_coordinate_descent(\n",
      "c:\\Users\\diego\\.conda\\envs\\streamlit\\Lib\\site-packages\\sklearn\\linear_model\\_coordinate_descent.py:695: ConvergenceWarning: Objective did not converge. You might want to increase the number of iterations, check the scale of the features or consider increasing regularisation. Duality gap: 1.040e+04, tolerance: 7.370e+00\n",
      "  model = cd_fast.enet_coordinate_descent(\n",
      "c:\\Users\\diego\\.conda\\envs\\streamlit\\Lib\\site-packages\\sklearn\\linear_model\\_coordinate_descent.py:695: ConvergenceWarning: Objective did not converge. You might want to increase the number of iterations, check the scale of the features or consider increasing regularisation. Duality gap: 1.022e+04, tolerance: 7.370e+00\n",
      "  model = cd_fast.enet_coordinate_descent(\n",
      "c:\\Users\\diego\\.conda\\envs\\streamlit\\Lib\\site-packages\\sklearn\\linear_model\\_coordinate_descent.py:695: ConvergenceWarning: Objective did not converge. You might want to increase the number of iterations, check the scale of the features or consider increasing regularisation. Duality gap: 1.005e+04, tolerance: 7.370e+00\n",
      "  model = cd_fast.enet_coordinate_descent(\n",
      "c:\\Users\\diego\\.conda\\envs\\streamlit\\Lib\\site-packages\\sklearn\\linear_model\\_coordinate_descent.py:695: ConvergenceWarning: Objective did not converge. You might want to increase the number of iterations, check the scale of the features or consider increasing regularisation. Duality gap: 9.892e+03, tolerance: 7.370e+00\n",
      "  model = cd_fast.enet_coordinate_descent(\n",
      "c:\\Users\\diego\\.conda\\envs\\streamlit\\Lib\\site-packages\\sklearn\\linear_model\\_coordinate_descent.py:695: ConvergenceWarning: Objective did not converge. You might want to increase the number of iterations, check the scale of the features or consider increasing regularisation. Duality gap: 9.750e+03, tolerance: 7.370e+00\n",
      "  model = cd_fast.enet_coordinate_descent(\n",
      "c:\\Users\\diego\\.conda\\envs\\streamlit\\Lib\\site-packages\\sklearn\\linear_model\\_coordinate_descent.py:695: ConvergenceWarning: Objective did not converge. You might want to increase the number of iterations, check the scale of the features or consider increasing regularisation. Duality gap: 9.625e+03, tolerance: 7.370e+00\n",
      "  model = cd_fast.enet_coordinate_descent(\n",
      "c:\\Users\\diego\\.conda\\envs\\streamlit\\Lib\\site-packages\\sklearn\\linear_model\\_coordinate_descent.py:695: ConvergenceWarning: Objective did not converge. You might want to increase the number of iterations, check the scale of the features or consider increasing regularisation. Duality gap: 9.516e+03, tolerance: 7.370e+00\n",
      "  model = cd_fast.enet_coordinate_descent(\n",
      "c:\\Users\\diego\\.conda\\envs\\streamlit\\Lib\\site-packages\\sklearn\\linear_model\\_coordinate_descent.py:695: ConvergenceWarning: Objective did not converge. You might want to increase the number of iterations, check the scale of the features or consider increasing regularisation. Duality gap: 9.408e+03, tolerance: 7.370e+00\n",
      "  model = cd_fast.enet_coordinate_descent(\n",
      "c:\\Users\\diego\\.conda\\envs\\streamlit\\Lib\\site-packages\\sklearn\\linear_model\\_coordinate_descent.py:695: ConvergenceWarning: Objective did not converge. You might want to increase the number of iterations, check the scale of the features or consider increasing regularisation. Duality gap: 9.309e+03, tolerance: 7.370e+00\n",
      "  model = cd_fast.enet_coordinate_descent(\n",
      "c:\\Users\\diego\\.conda\\envs\\streamlit\\Lib\\site-packages\\sklearn\\linear_model\\_coordinate_descent.py:695: ConvergenceWarning: Objective did not converge. You might want to increase the number of iterations, check the scale of the features or consider increasing regularisation. Duality gap: 9.215e+03, tolerance: 7.370e+00\n",
      "  model = cd_fast.enet_coordinate_descent(\n",
      "c:\\Users\\diego\\.conda\\envs\\streamlit\\Lib\\site-packages\\sklearn\\linear_model\\_coordinate_descent.py:695: ConvergenceWarning: Objective did not converge. You might want to increase the number of iterations, check the scale of the features or consider increasing regularisation. Duality gap: 9.123e+03, tolerance: 7.370e+00\n",
      "  model = cd_fast.enet_coordinate_descent(\n",
      "c:\\Users\\diego\\.conda\\envs\\streamlit\\Lib\\site-packages\\sklearn\\linear_model\\_coordinate_descent.py:695: ConvergenceWarning: Objective did not converge. You might want to increase the number of iterations, check the scale of the features or consider increasing regularisation. Duality gap: 9.037e+03, tolerance: 7.370e+00\n",
      "  model = cd_fast.enet_coordinate_descent(\n",
      "c:\\Users\\diego\\.conda\\envs\\streamlit\\Lib\\site-packages\\sklearn\\linear_model\\_coordinate_descent.py:695: ConvergenceWarning: Objective did not converge. You might want to increase the number of iterations, check the scale of the features or consider increasing regularisation. Duality gap: 8.955e+03, tolerance: 7.370e+00\n",
      "  model = cd_fast.enet_coordinate_descent(\n",
      "c:\\Users\\diego\\.conda\\envs\\streamlit\\Lib\\site-packages\\sklearn\\linear_model\\_coordinate_descent.py:695: ConvergenceWarning: Objective did not converge. You might want to increase the number of iterations, check the scale of the features or consider increasing regularisation. Duality gap: 8.877e+03, tolerance: 7.370e+00\n",
      "  model = cd_fast.enet_coordinate_descent(\n",
      "c:\\Users\\diego\\.conda\\envs\\streamlit\\Lib\\site-packages\\sklearn\\linear_model\\_coordinate_descent.py:695: ConvergenceWarning: Objective did not converge. You might want to increase the number of iterations, check the scale of the features or consider increasing regularisation. Duality gap: 8.803e+03, tolerance: 7.370e+00\n",
      "  model = cd_fast.enet_coordinate_descent(\n",
      "c:\\Users\\diego\\.conda\\envs\\streamlit\\Lib\\site-packages\\sklearn\\linear_model\\_coordinate_descent.py:695: ConvergenceWarning: Objective did not converge. You might want to increase the number of iterations, check the scale of the features or consider increasing regularisation. Duality gap: 8.727e+03, tolerance: 7.370e+00\n",
      "  model = cd_fast.enet_coordinate_descent(\n",
      "c:\\Users\\diego\\.conda\\envs\\streamlit\\Lib\\site-packages\\sklearn\\linear_model\\_coordinate_descent.py:695: ConvergenceWarning: Objective did not converge. You might want to increase the number of iterations, check the scale of the features or consider increasing regularisation. Duality gap: 8.653e+03, tolerance: 7.370e+00\n",
      "  model = cd_fast.enet_coordinate_descent(\n",
      "c:\\Users\\diego\\.conda\\envs\\streamlit\\Lib\\site-packages\\sklearn\\linear_model\\_coordinate_descent.py:695: ConvergenceWarning: Objective did not converge. You might want to increase the number of iterations, check the scale of the features or consider increasing regularisation. Duality gap: 8.576e+03, tolerance: 7.370e+00\n",
      "  model = cd_fast.enet_coordinate_descent(\n",
      "c:\\Users\\diego\\.conda\\envs\\streamlit\\Lib\\site-packages\\sklearn\\linear_model\\_coordinate_descent.py:695: ConvergenceWarning: Objective did not converge. You might want to increase the number of iterations, check the scale of the features or consider increasing regularisation. Duality gap: 8.495e+03, tolerance: 7.370e+00\n",
      "  model = cd_fast.enet_coordinate_descent(\n",
      "c:\\Users\\diego\\.conda\\envs\\streamlit\\Lib\\site-packages\\sklearn\\linear_model\\_coordinate_descent.py:695: ConvergenceWarning: Objective did not converge. You might want to increase the number of iterations, check the scale of the features or consider increasing regularisation. Duality gap: 8.417e+03, tolerance: 7.370e+00\n",
      "  model = cd_fast.enet_coordinate_descent(\n",
      "c:\\Users\\diego\\.conda\\envs\\streamlit\\Lib\\site-packages\\sklearn\\linear_model\\_coordinate_descent.py:695: ConvergenceWarning: Objective did not converge. You might want to increase the number of iterations, check the scale of the features or consider increasing regularisation. Duality gap: 8.343e+03, tolerance: 7.370e+00\n",
      "  model = cd_fast.enet_coordinate_descent(\n",
      "c:\\Users\\diego\\.conda\\envs\\streamlit\\Lib\\site-packages\\sklearn\\linear_model\\_coordinate_descent.py:695: ConvergenceWarning: Objective did not converge. You might want to increase the number of iterations, check the scale of the features or consider increasing regularisation. Duality gap: 8.274e+03, tolerance: 7.370e+00\n",
      "  model = cd_fast.enet_coordinate_descent(\n",
      "c:\\Users\\diego\\.conda\\envs\\streamlit\\Lib\\site-packages\\sklearn\\linear_model\\_coordinate_descent.py:695: ConvergenceWarning: Objective did not converge. You might want to increase the number of iterations, check the scale of the features or consider increasing regularisation. Duality gap: 8.210e+03, tolerance: 7.370e+00\n",
      "  model = cd_fast.enet_coordinate_descent(\n",
      "c:\\Users\\diego\\.conda\\envs\\streamlit\\Lib\\site-packages\\sklearn\\linear_model\\_coordinate_descent.py:695: ConvergenceWarning: Objective did not converge. You might want to increase the number of iterations, check the scale of the features or consider increasing regularisation. Duality gap: 8.151e+03, tolerance: 7.370e+00\n",
      "  model = cd_fast.enet_coordinate_descent(\n",
      "c:\\Users\\diego\\.conda\\envs\\streamlit\\Lib\\site-packages\\sklearn\\linear_model\\_coordinate_descent.py:695: ConvergenceWarning: Objective did not converge. You might want to increase the number of iterations, check the scale of the features or consider increasing regularisation. Duality gap: 8.096e+03, tolerance: 7.370e+00\n",
      "  model = cd_fast.enet_coordinate_descent(\n",
      "c:\\Users\\diego\\.conda\\envs\\streamlit\\Lib\\site-packages\\sklearn\\linear_model\\_coordinate_descent.py:695: ConvergenceWarning: Objective did not converge. You might want to increase the number of iterations, check the scale of the features or consider increasing regularisation. Duality gap: 8.045e+03, tolerance: 7.370e+00\n",
      "  model = cd_fast.enet_coordinate_descent(\n",
      "c:\\Users\\diego\\.conda\\envs\\streamlit\\Lib\\site-packages\\sklearn\\linear_model\\_coordinate_descent.py:695: ConvergenceWarning: Objective did not converge. You might want to increase the number of iterations, check the scale of the features or consider increasing regularisation. Duality gap: 7.998e+03, tolerance: 7.370e+00\n",
      "  model = cd_fast.enet_coordinate_descent(\n",
      "c:\\Users\\diego\\.conda\\envs\\streamlit\\Lib\\site-packages\\sklearn\\linear_model\\_coordinate_descent.py:695: ConvergenceWarning: Objective did not converge. You might want to increase the number of iterations, check the scale of the features or consider increasing regularisation. Duality gap: 7.956e+03, tolerance: 7.370e+00\n",
      "  model = cd_fast.enet_coordinate_descent(\n",
      "c:\\Users\\diego\\.conda\\envs\\streamlit\\Lib\\site-packages\\sklearn\\linear_model\\_coordinate_descent.py:695: ConvergenceWarning: Objective did not converge. You might want to increase the number of iterations, check the scale of the features or consider increasing regularisation. Duality gap: 7.915e+03, tolerance: 7.370e+00\n",
      "  model = cd_fast.enet_coordinate_descent(\n",
      "c:\\Users\\diego\\.conda\\envs\\streamlit\\Lib\\site-packages\\sklearn\\linear_model\\_coordinate_descent.py:695: ConvergenceWarning: Objective did not converge. You might want to increase the number of iterations, check the scale of the features or consider increasing regularisation. Duality gap: 7.877e+03, tolerance: 7.370e+00\n",
      "  model = cd_fast.enet_coordinate_descent(\n",
      "c:\\Users\\diego\\.conda\\envs\\streamlit\\Lib\\site-packages\\sklearn\\linear_model\\_coordinate_descent.py:695: ConvergenceWarning: Objective did not converge. You might want to increase the number of iterations, check the scale of the features or consider increasing regularisation. Duality gap: 7.841e+03, tolerance: 7.370e+00\n",
      "  model = cd_fast.enet_coordinate_descent(\n",
      "c:\\Users\\diego\\.conda\\envs\\streamlit\\Lib\\site-packages\\sklearn\\linear_model\\_coordinate_descent.py:695: ConvergenceWarning: Objective did not converge. You might want to increase the number of iterations, check the scale of the features or consider increasing regularisation. Duality gap: 7.808e+03, tolerance: 7.370e+00\n",
      "  model = cd_fast.enet_coordinate_descent(\n",
      "c:\\Users\\diego\\.conda\\envs\\streamlit\\Lib\\site-packages\\sklearn\\linear_model\\_coordinate_descent.py:695: ConvergenceWarning: Objective did not converge. You might want to increase the number of iterations, check the scale of the features or consider increasing regularisation. Duality gap: 7.778e+03, tolerance: 7.370e+00\n",
      "  model = cd_fast.enet_coordinate_descent(\n",
      "c:\\Users\\diego\\.conda\\envs\\streamlit\\Lib\\site-packages\\sklearn\\linear_model\\_coordinate_descent.py:695: ConvergenceWarning: Objective did not converge. You might want to increase the number of iterations, check the scale of the features or consider increasing regularisation. Duality gap: 7.748e+03, tolerance: 7.370e+00\n",
      "  model = cd_fast.enet_coordinate_descent(\n",
      "c:\\Users\\diego\\.conda\\envs\\streamlit\\Lib\\site-packages\\sklearn\\linear_model\\_coordinate_descent.py:695: ConvergenceWarning: Objective did not converge. You might want to increase the number of iterations, check the scale of the features or consider increasing regularisation. Duality gap: 7.720e+03, tolerance: 7.370e+00\n",
      "  model = cd_fast.enet_coordinate_descent(\n",
      "c:\\Users\\diego\\.conda\\envs\\streamlit\\Lib\\site-packages\\sklearn\\linear_model\\_coordinate_descent.py:695: ConvergenceWarning: Objective did not converge. You might want to increase the number of iterations, check the scale of the features or consider increasing regularisation. Duality gap: 7.694e+03, tolerance: 7.370e+00\n",
      "  model = cd_fast.enet_coordinate_descent(\n",
      "c:\\Users\\diego\\.conda\\envs\\streamlit\\Lib\\site-packages\\sklearn\\linear_model\\_coordinate_descent.py:695: ConvergenceWarning: Objective did not converge. You might want to increase the number of iterations, check the scale of the features or consider increasing regularisation. Duality gap: 7.670e+03, tolerance: 7.370e+00\n",
      "  model = cd_fast.enet_coordinate_descent(\n",
      "c:\\Users\\diego\\.conda\\envs\\streamlit\\Lib\\site-packages\\sklearn\\linear_model\\_coordinate_descent.py:695: ConvergenceWarning: Objective did not converge. You might want to increase the number of iterations, check the scale of the features or consider increasing regularisation. Duality gap: 7.647e+03, tolerance: 7.370e+00\n",
      "  model = cd_fast.enet_coordinate_descent(\n",
      "c:\\Users\\diego\\.conda\\envs\\streamlit\\Lib\\site-packages\\sklearn\\linear_model\\_coordinate_descent.py:695: ConvergenceWarning: Objective did not converge. You might want to increase the number of iterations, check the scale of the features or consider increasing regularisation. Duality gap: 7.627e+03, tolerance: 7.370e+00\n",
      "  model = cd_fast.enet_coordinate_descent(\n",
      "c:\\Users\\diego\\.conda\\envs\\streamlit\\Lib\\site-packages\\sklearn\\linear_model\\_coordinate_descent.py:695: ConvergenceWarning: Objective did not converge. You might want to increase the number of iterations, check the scale of the features or consider increasing regularisation. Duality gap: 7.608e+03, tolerance: 7.370e+00\n",
      "  model = cd_fast.enet_coordinate_descent(\n",
      "c:\\Users\\diego\\.conda\\envs\\streamlit\\Lib\\site-packages\\sklearn\\linear_model\\_coordinate_descent.py:695: ConvergenceWarning: Objective did not converge. You might want to increase the number of iterations, check the scale of the features or consider increasing regularisation. Duality gap: 7.593e+03, tolerance: 7.370e+00\n",
      "  model = cd_fast.enet_coordinate_descent(\n",
      "c:\\Users\\diego\\.conda\\envs\\streamlit\\Lib\\site-packages\\sklearn\\linear_model\\_coordinate_descent.py:695: ConvergenceWarning: Objective did not converge. You might want to increase the number of iterations, check the scale of the features or consider increasing regularisation. Duality gap: 7.579e+03, tolerance: 7.370e+00\n",
      "  model = cd_fast.enet_coordinate_descent(\n",
      "c:\\Users\\diego\\.conda\\envs\\streamlit\\Lib\\site-packages\\sklearn\\linear_model\\_coordinate_descent.py:695: ConvergenceWarning: Objective did not converge. You might want to increase the number of iterations, check the scale of the features or consider increasing regularisation. Duality gap: 7.568e+03, tolerance: 7.370e+00\n",
      "  model = cd_fast.enet_coordinate_descent(\n",
      "c:\\Users\\diego\\.conda\\envs\\streamlit\\Lib\\site-packages\\sklearn\\linear_model\\_coordinate_descent.py:695: ConvergenceWarning: Objective did not converge. You might want to increase the number of iterations, check the scale of the features or consider increasing regularisation. Duality gap: 7.558e+03, tolerance: 7.370e+00\n",
      "  model = cd_fast.enet_coordinate_descent(\n",
      "c:\\Users\\diego\\.conda\\envs\\streamlit\\Lib\\site-packages\\sklearn\\linear_model\\_coordinate_descent.py:695: ConvergenceWarning: Objective did not converge. You might want to increase the number of iterations, check the scale of the features or consider increasing regularisation. Duality gap: 7.546e+03, tolerance: 7.370e+00\n",
      "  model = cd_fast.enet_coordinate_descent(\n",
      "c:\\Users\\diego\\.conda\\envs\\streamlit\\Lib\\site-packages\\sklearn\\linear_model\\_coordinate_descent.py:695: ConvergenceWarning: Objective did not converge. You might want to increase the number of iterations, check the scale of the features or consider increasing regularisation. Duality gap: 7.532e+03, tolerance: 7.370e+00\n",
      "  model = cd_fast.enet_coordinate_descent(\n",
      "c:\\Users\\diego\\.conda\\envs\\streamlit\\Lib\\site-packages\\sklearn\\linear_model\\_coordinate_descent.py:695: ConvergenceWarning: Objective did not converge. You might want to increase the number of iterations, check the scale of the features or consider increasing regularisation. Duality gap: 7.520e+03, tolerance: 7.370e+00\n",
      "  model = cd_fast.enet_coordinate_descent(\n",
      "c:\\Users\\diego\\.conda\\envs\\streamlit\\Lib\\site-packages\\sklearn\\linear_model\\_coordinate_descent.py:695: ConvergenceWarning: Objective did not converge. You might want to increase the number of iterations, check the scale of the features or consider increasing regularisation. Duality gap: 7.509e+03, tolerance: 7.370e+00\n",
      "  model = cd_fast.enet_coordinate_descent(\n",
      "c:\\Users\\diego\\.conda\\envs\\streamlit\\Lib\\site-packages\\sklearn\\linear_model\\_coordinate_descent.py:695: ConvergenceWarning: Objective did not converge. You might want to increase the number of iterations, check the scale of the features or consider increasing regularisation. Duality gap: 7.499e+03, tolerance: 7.370e+00\n",
      "  model = cd_fast.enet_coordinate_descent(\n",
      "c:\\Users\\diego\\.conda\\envs\\streamlit\\Lib\\site-packages\\sklearn\\linear_model\\_coordinate_descent.py:695: ConvergenceWarning: Objective did not converge. You might want to increase the number of iterations, check the scale of the features or consider increasing regularisation. Duality gap: 7.490e+03, tolerance: 7.370e+00\n",
      "  model = cd_fast.enet_coordinate_descent(\n",
      "c:\\Users\\diego\\.conda\\envs\\streamlit\\Lib\\site-packages\\sklearn\\linear_model\\_coordinate_descent.py:695: ConvergenceWarning: Objective did not converge. You might want to increase the number of iterations, check the scale of the features or consider increasing regularisation. Duality gap: 7.481e+03, tolerance: 7.370e+00\n",
      "  model = cd_fast.enet_coordinate_descent(\n",
      "c:\\Users\\diego\\.conda\\envs\\streamlit\\Lib\\site-packages\\sklearn\\linear_model\\_coordinate_descent.py:695: ConvergenceWarning: Objective did not converge. You might want to increase the number of iterations, check the scale of the features or consider increasing regularisation. Duality gap: 7.468e+03, tolerance: 7.370e+00\n",
      "  model = cd_fast.enet_coordinate_descent(\n",
      "c:\\Users\\diego\\.conda\\envs\\streamlit\\Lib\\site-packages\\sklearn\\linear_model\\_coordinate_descent.py:695: ConvergenceWarning: Objective did not converge. You might want to increase the number of iterations, check the scale of the features or consider increasing regularisation. Duality gap: 7.451e+03, tolerance: 7.370e+00\n",
      "  model = cd_fast.enet_coordinate_descent(\n",
      "c:\\Users\\diego\\.conda\\envs\\streamlit\\Lib\\site-packages\\sklearn\\linear_model\\_coordinate_descent.py:695: ConvergenceWarning: Objective did not converge. You might want to increase the number of iterations, check the scale of the features or consider increasing regularisation. Duality gap: 7.432e+03, tolerance: 7.370e+00\n",
      "  model = cd_fast.enet_coordinate_descent(\n",
      "c:\\Users\\diego\\.conda\\envs\\streamlit\\Lib\\site-packages\\sklearn\\linear_model\\_coordinate_descent.py:695: ConvergenceWarning: Objective did not converge. You might want to increase the number of iterations, check the scale of the features or consider increasing regularisation. Duality gap: 7.409e+03, tolerance: 7.370e+00\n",
      "  model = cd_fast.enet_coordinate_descent(\n",
      "c:\\Users\\diego\\.conda\\envs\\streamlit\\Lib\\site-packages\\sklearn\\linear_model\\_coordinate_descent.py:695: ConvergenceWarning: Objective did not converge. You might want to increase the number of iterations, check the scale of the features or consider increasing regularisation. Duality gap: 7.383e+03, tolerance: 7.370e+00\n",
      "  model = cd_fast.enet_coordinate_descent(\n",
      "c:\\Users\\diego\\.conda\\envs\\streamlit\\Lib\\site-packages\\sklearn\\linear_model\\_coordinate_descent.py:695: ConvergenceWarning: Objective did not converge. You might want to increase the number of iterations, check the scale of the features or consider increasing regularisation. Duality gap: 7.357e+03, tolerance: 7.370e+00\n",
      "  model = cd_fast.enet_coordinate_descent(\n",
      "c:\\Users\\diego\\.conda\\envs\\streamlit\\Lib\\site-packages\\sklearn\\linear_model\\_coordinate_descent.py:695: ConvergenceWarning: Objective did not converge. You might want to increase the number of iterations, check the scale of the features or consider increasing regularisation. Duality gap: 7.331e+03, tolerance: 7.370e+00\n",
      "  model = cd_fast.enet_coordinate_descent(\n",
      "c:\\Users\\diego\\.conda\\envs\\streamlit\\Lib\\site-packages\\sklearn\\linear_model\\_coordinate_descent.py:695: ConvergenceWarning: Objective did not converge. You might want to increase the number of iterations, check the scale of the features or consider increasing regularisation. Duality gap: 7.306e+03, tolerance: 7.370e+00\n",
      "  model = cd_fast.enet_coordinate_descent(\n",
      "c:\\Users\\diego\\.conda\\envs\\streamlit\\Lib\\site-packages\\sklearn\\linear_model\\_coordinate_descent.py:695: ConvergenceWarning: Objective did not converge. You might want to increase the number of iterations, check the scale of the features or consider increasing regularisation. Duality gap: 7.284e+03, tolerance: 7.370e+00\n",
      "  model = cd_fast.enet_coordinate_descent(\n",
      "c:\\Users\\diego\\.conda\\envs\\streamlit\\Lib\\site-packages\\sklearn\\linear_model\\_coordinate_descent.py:695: ConvergenceWarning: Objective did not converge. You might want to increase the number of iterations, check the scale of the features or consider increasing regularisation. Duality gap: 7.262e+03, tolerance: 7.370e+00\n",
      "  model = cd_fast.enet_coordinate_descent(\n",
      "c:\\Users\\diego\\.conda\\envs\\streamlit\\Lib\\site-packages\\sklearn\\linear_model\\_coordinate_descent.py:695: ConvergenceWarning: Objective did not converge. You might want to increase the number of iterations, check the scale of the features or consider increasing regularisation. Duality gap: 7.243e+03, tolerance: 7.370e+00\n",
      "  model = cd_fast.enet_coordinate_descent(\n",
      "c:\\Users\\diego\\.conda\\envs\\streamlit\\Lib\\site-packages\\sklearn\\linear_model\\_coordinate_descent.py:695: ConvergenceWarning: Objective did not converge. You might want to increase the number of iterations, check the scale of the features or consider increasing regularisation. Duality gap: 7.225e+03, tolerance: 7.370e+00\n",
      "  model = cd_fast.enet_coordinate_descent(\n",
      "c:\\Users\\diego\\.conda\\envs\\streamlit\\Lib\\site-packages\\sklearn\\linear_model\\_coordinate_descent.py:695: ConvergenceWarning: Objective did not converge. You might want to increase the number of iterations, check the scale of the features or consider increasing regularisation. Duality gap: 7.208e+03, tolerance: 7.370e+00\n",
      "  model = cd_fast.enet_coordinate_descent(\n",
      "c:\\Users\\diego\\.conda\\envs\\streamlit\\Lib\\site-packages\\sklearn\\linear_model\\_coordinate_descent.py:695: ConvergenceWarning: Objective did not converge. You might want to increase the number of iterations, check the scale of the features or consider increasing regularisation. Duality gap: 7.194e+03, tolerance: 7.370e+00\n",
      "  model = cd_fast.enet_coordinate_descent(\n",
      "c:\\Users\\diego\\.conda\\envs\\streamlit\\Lib\\site-packages\\sklearn\\linear_model\\_coordinate_descent.py:695: ConvergenceWarning: Objective did not converge. You might want to increase the number of iterations, check the scale of the features or consider increasing regularisation. Duality gap: 7.181e+03, tolerance: 7.370e+00\n",
      "  model = cd_fast.enet_coordinate_descent(\n",
      "c:\\Users\\diego\\.conda\\envs\\streamlit\\Lib\\site-packages\\sklearn\\linear_model\\_coordinate_descent.py:695: ConvergenceWarning: Objective did not converge. You might want to increase the number of iterations, check the scale of the features or consider increasing regularisation. Duality gap: 7.170e+03, tolerance: 7.370e+00\n",
      "  model = cd_fast.enet_coordinate_descent(\n",
      "c:\\Users\\diego\\.conda\\envs\\streamlit\\Lib\\site-packages\\sklearn\\linear_model\\_coordinate_descent.py:695: ConvergenceWarning: Objective did not converge. You might want to increase the number of iterations, check the scale of the features or consider increasing regularisation. Duality gap: 7.161e+03, tolerance: 7.370e+00\n",
      "  model = cd_fast.enet_coordinate_descent(\n",
      "c:\\Users\\diego\\.conda\\envs\\streamlit\\Lib\\site-packages\\sklearn\\linear_model\\_coordinate_descent.py:695: ConvergenceWarning: Objective did not converge. You might want to increase the number of iterations, check the scale of the features or consider increasing regularisation. Duality gap: 7.152e+03, tolerance: 7.370e+00\n",
      "  model = cd_fast.enet_coordinate_descent(\n",
      "c:\\Users\\diego\\.conda\\envs\\streamlit\\Lib\\site-packages\\sklearn\\linear_model\\_coordinate_descent.py:695: ConvergenceWarning: Objective did not converge. You might want to increase the number of iterations, check the scale of the features or consider increasing regularisation. Duality gap: 7.145e+03, tolerance: 7.370e+00\n",
      "  model = cd_fast.enet_coordinate_descent(\n",
      "c:\\Users\\diego\\.conda\\envs\\streamlit\\Lib\\site-packages\\sklearn\\linear_model\\_coordinate_descent.py:695: ConvergenceWarning: Objective did not converge. You might want to increase the number of iterations, check the scale of the features or consider increasing regularisation. Duality gap: 7.138e+03, tolerance: 7.370e+00\n",
      "  model = cd_fast.enet_coordinate_descent(\n",
      "c:\\Users\\diego\\.conda\\envs\\streamlit\\Lib\\site-packages\\sklearn\\linear_model\\_coordinate_descent.py:695: ConvergenceWarning: Objective did not converge. You might want to increase the number of iterations, check the scale of the features or consider increasing regularisation. Duality gap: 7.130e+03, tolerance: 7.370e+00\n",
      "  model = cd_fast.enet_coordinate_descent(\n",
      "c:\\Users\\diego\\.conda\\envs\\streamlit\\Lib\\site-packages\\sklearn\\linear_model\\_coordinate_descent.py:695: ConvergenceWarning: Objective did not converge. You might want to increase the number of iterations, check the scale of the features or consider increasing regularisation. Duality gap: 7.123e+03, tolerance: 7.370e+00\n",
      "  model = cd_fast.enet_coordinate_descent(\n",
      "c:\\Users\\diego\\.conda\\envs\\streamlit\\Lib\\site-packages\\sklearn\\linear_model\\_coordinate_descent.py:695: ConvergenceWarning: Objective did not converge. You might want to increase the number of iterations, check the scale of the features or consider increasing regularisation. Duality gap: 7.117e+03, tolerance: 7.370e+00\n",
      "  model = cd_fast.enet_coordinate_descent(\n",
      "c:\\Users\\diego\\.conda\\envs\\streamlit\\Lib\\site-packages\\sklearn\\linear_model\\_coordinate_descent.py:695: ConvergenceWarning: Objective did not converge. You might want to increase the number of iterations, check the scale of the features or consider increasing regularisation. Duality gap: 7.112e+03, tolerance: 7.370e+00\n",
      "  model = cd_fast.enet_coordinate_descent(\n",
      "c:\\Users\\diego\\.conda\\envs\\streamlit\\Lib\\site-packages\\sklearn\\linear_model\\_coordinate_descent.py:695: ConvergenceWarning: Objective did not converge. You might want to increase the number of iterations, check the scale of the features or consider increasing regularisation. Duality gap: 7.107e+03, tolerance: 7.370e+00\n",
      "  model = cd_fast.enet_coordinate_descent(\n",
      "c:\\Users\\diego\\.conda\\envs\\streamlit\\Lib\\site-packages\\sklearn\\linear_model\\_coordinate_descent.py:695: ConvergenceWarning: Objective did not converge. You might want to increase the number of iterations, check the scale of the features or consider increasing regularisation. Duality gap: 7.103e+03, tolerance: 7.370e+00\n",
      "  model = cd_fast.enet_coordinate_descent(\n",
      "c:\\Users\\diego\\.conda\\envs\\streamlit\\Lib\\site-packages\\sklearn\\linear_model\\_coordinate_descent.py:695: ConvergenceWarning: Objective did not converge. You might want to increase the number of iterations, check the scale of the features or consider increasing regularisation. Duality gap: 7.099e+03, tolerance: 7.370e+00\n",
      "  model = cd_fast.enet_coordinate_descent(\n",
      "c:\\Users\\diego\\.conda\\envs\\streamlit\\Lib\\site-packages\\sklearn\\linear_model\\_coordinate_descent.py:695: ConvergenceWarning: Objective did not converge. You might want to increase the number of iterations, check the scale of the features or consider increasing regularisation. Duality gap: 7.096e+03, tolerance: 7.370e+00\n",
      "  model = cd_fast.enet_coordinate_descent(\n",
      "c:\\Users\\diego\\.conda\\envs\\streamlit\\Lib\\site-packages\\sklearn\\linear_model\\_coordinate_descent.py:695: ConvergenceWarning: Objective did not converge. You might want to increase the number of iterations, check the scale of the features or consider increasing regularisation. Duality gap: 7.093e+03, tolerance: 7.370e+00\n",
      "  model = cd_fast.enet_coordinate_descent(\n",
      "c:\\Users\\diego\\.conda\\envs\\streamlit\\Lib\\site-packages\\sklearn\\linear_model\\_coordinate_descent.py:695: ConvergenceWarning: Objective did not converge. You might want to increase the number of iterations, check the scale of the features or consider increasing regularisation. Duality gap: 7.090e+03, tolerance: 7.370e+00\n",
      "  model = cd_fast.enet_coordinate_descent(\n",
      "c:\\Users\\diego\\.conda\\envs\\streamlit\\Lib\\site-packages\\sklearn\\linear_model\\_coordinate_descent.py:695: ConvergenceWarning: Objective did not converge. You might want to increase the number of iterations, check the scale of the features or consider increasing regularisation. Duality gap: 7.088e+03, tolerance: 7.370e+00\n",
      "  model = cd_fast.enet_coordinate_descent(\n",
      "c:\\Users\\diego\\.conda\\envs\\streamlit\\Lib\\site-packages\\sklearn\\linear_model\\_coordinate_descent.py:695: ConvergenceWarning: Objective did not converge. You might want to increase the number of iterations, check the scale of the features or consider increasing regularisation. Duality gap: 7.086e+03, tolerance: 7.370e+00\n",
      "  model = cd_fast.enet_coordinate_descent(\n",
      "c:\\Users\\diego\\.conda\\envs\\streamlit\\Lib\\site-packages\\sklearn\\linear_model\\_coordinate_descent.py:695: ConvergenceWarning: Objective did not converge. You might want to increase the number of iterations, check the scale of the features or consider increasing regularisation. Duality gap: 7.085e+03, tolerance: 7.370e+00\n",
      "  model = cd_fast.enet_coordinate_descent(\n",
      "c:\\Users\\diego\\.conda\\envs\\streamlit\\Lib\\site-packages\\sklearn\\linear_model\\_coordinate_descent.py:695: ConvergenceWarning: Objective did not converge. You might want to increase the number of iterations, check the scale of the features or consider increasing regularisation. Duality gap: 7.084e+03, tolerance: 7.370e+00\n",
      "  model = cd_fast.enet_coordinate_descent(\n",
      "c:\\Users\\diego\\.conda\\envs\\streamlit\\Lib\\site-packages\\sklearn\\linear_model\\_coordinate_descent.py:695: ConvergenceWarning: Objective did not converge. You might want to increase the number of iterations, check the scale of the features or consider increasing regularisation. Duality gap: 7.082e+03, tolerance: 7.370e+00\n",
      "  model = cd_fast.enet_coordinate_descent(\n",
      "c:\\Users\\diego\\.conda\\envs\\streamlit\\Lib\\site-packages\\sklearn\\linear_model\\_coordinate_descent.py:695: ConvergenceWarning: Objective did not converge. You might want to increase the number of iterations, check the scale of the features or consider increasing regularisation. Duality gap: 7.082e+03, tolerance: 7.370e+00\n",
      "  model = cd_fast.enet_coordinate_descent(\n",
      "c:\\Users\\diego\\.conda\\envs\\streamlit\\Lib\\site-packages\\sklearn\\linear_model\\_coordinate_descent.py:695: ConvergenceWarning: Objective did not converge. You might want to increase the number of iterations, check the scale of the features or consider increasing regularisation. Duality gap: 7.081e+03, tolerance: 7.370e+00\n",
      "  model = cd_fast.enet_coordinate_descent(\n",
      "c:\\Users\\diego\\.conda\\envs\\streamlit\\Lib\\site-packages\\sklearn\\linear_model\\_coordinate_descent.py:695: ConvergenceWarning: Objective did not converge. You might want to increase the number of iterations, check the scale of the features or consider increasing regularisation. Duality gap: 7.080e+03, tolerance: 7.370e+00\n",
      "  model = cd_fast.enet_coordinate_descent(\n",
      "c:\\Users\\diego\\.conda\\envs\\streamlit\\Lib\\site-packages\\sklearn\\linear_model\\_coordinate_descent.py:695: ConvergenceWarning: Objective did not converge. You might want to increase the number of iterations, check the scale of the features or consider increasing regularisation. Duality gap: 7.079e+03, tolerance: 7.370e+00\n",
      "  model = cd_fast.enet_coordinate_descent(\n",
      "c:\\Users\\diego\\.conda\\envs\\streamlit\\Lib\\site-packages\\sklearn\\linear_model\\_coordinate_descent.py:695: ConvergenceWarning: Objective did not converge. You might want to increase the number of iterations, check the scale of the features or consider increasing regularisation. Duality gap: 7.079e+03, tolerance: 7.370e+00\n",
      "  model = cd_fast.enet_coordinate_descent(\n"
     ]
    },
    {
     "data": {
      "image/png": "[encoded data removed]",
      "text/plain": [
       "<Figure size 800x600 with 1 Axes>"
      ]
     },
     "metadata": {},
     "output_type": "display_data"
    }
   ],
   "source": [
    "# Rango de lambda (alpha en sklearn)\n",
    "lambdas = np.logspace(4, -3, 100)  # de 10,000 a 0.001 (log scale)\n",
    "\n",
    "nonzero_counts = []\n",
    "\n",
    "for lam in lambdas:\n",
    "    lasso = Lasso(alpha=lam, max_iter=10000).fit(X_train, y_train)\n",
    "    nonzero_counts.append(np.sum(lasso.coef_ != 0))\n",
    "\n",
    "# Plot\n",
    "plt.figure(figsize=(8,6))\n",
    "plt.plot(lambdas, nonzero_counts, marker='o')\n",
    "plt.xscale(\"log\")\n",
    "plt.xlabel(\"Lambda (α, escala log)\")\n",
    "plt.ylabel(\"Número de coeficientes ≠ 0\")\n",
    "plt.title(\"Trayectoria LASSO: número de variables seleccionadas vs λ\")\n",
    "plt.grid(True)\n",
    "plt.show()\n"
   ]
  },
  {
   "cell_type": "markdown",
   "id": "21098702",
   "metadata": {},
   "source": [
    "La trayectoria de LASSO muestra que para valores de λ muy bajos (≈0.001), casi todas las variables permanecen en el modelo. Conforme λ aumenta, el número de variables con coeficientes distintos de cero se reduce progresivamente. Para valores muy altos de λ (≈10,000), el modelo selecciona menos de 60 variables. Esto refleja cómo LASSO aplica regularización, priorizando parsimonia y evitando sobreajuste al eliminar predictores irrelevantes."
   ]
  }
 ],
 "metadata": {
  "kernelspec": {
   "display_name": "streamlit",
   "language": "python",
   "name": "python3"
  },
  "language_info": {
   "codemirror_mode": {
    "name": "ipython",
    "version": 3
   },
   "file_extension": ".py",
   "mimetype": "text/x-python",
   "name": "python",
   "nbconvert_exporter": "python",
   "pygments_lexer": "ipython3",
   "version": "3.12.11"
  }
 },
 "nbformat": 4,
 "nbformat_minor": 5
}
