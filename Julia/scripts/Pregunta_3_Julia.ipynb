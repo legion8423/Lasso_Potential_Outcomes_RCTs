{
  "cells": [
    {
      "cell_type": "markdown",
      "id": "9d134736-7ef5-4992-bcde-5dda95d1320b",
      "metadata": {
        "id": "9d134736-7ef5-4992-bcde-5dda95d1320b"
      },
      "source": [
        "## **Potential Outcomes and RCTs**"
      ]
    },
    {
      "cell_type": "markdown",
      "id": "cd82db5b-60f6-4ed9-ba17-99b626c1fb4c",
      "metadata": {
        "id": "cd82db5b-60f6-4ed9-ba17-99b626c1fb4c"
      },
      "source": [
        "# Data Simulation\n",
        "Simulate a dataset with (n = 1000) individuals. Generate:\n",
        "*   Covariates $X_1$, $X_2$, $X_3$, $X_4$ (continuous or binary)\n",
        "*   Treatment assignment $D \\sim \\text{Bernoulli}(0.5)$\n",
        "*   Outcome variable:\n",
        "$Y = 2D + 0.5X_1 - 0.3X_2 + 0.2X_3 + \\epsilon, \\quad \\epsilon \\sim N(0, 1)$\n",
        "\n",
        "Save everything in a `data.frame`.\n",
        "\n",
        "Perform a balance check: compare the means of ($X_1$, $X_2$, $X_3$, $X_4$) across treatment and control groups (e.g., using `t.test` or regression)."
      ]
    },
    {
      "cell_type": "code",
      "execution_count": null,
      "id": "8f8ea914-f659-4387-8abd-7787817bb242",
      "metadata": {
        "colab": {
          "base_uri": "https://localhost:8080/"
        },
        "collapsed": true,
        "id": "8f8ea914-f659-4387-8abd-7787817bb242",
        "outputId": "9af59482-f546-4d07-a882-5b6ae513abeb"
      },
      "outputs": [
        {
          "output_type": "stream",
          "name": "stderr",
          "text": [
            "\u001b[32m\u001b[1m    Updating\u001b[22m\u001b[39m registry at `~/.julia/registries/General.toml`\n",
            "\u001b[32m\u001b[1m   Resolving\u001b[22m\u001b[39m package versions...\n",
            "\u001b[32m\u001b[1m    Updating\u001b[22m\u001b[39m `~/.julia/environments/v1.11/Project.toml`\n",
            "  \u001b[90m[31c24e10] \u001b[39m\u001b[92m+ Distributions v0.25.120\u001b[39m\n",
            "\u001b[32m\u001b[1m  No Changes\u001b[22m\u001b[39m to `~/.julia/environments/v1.11/Manifest.toml`\n",
            "\u001b[32m\u001b[1m   Resolving\u001b[22m\u001b[39m package versions...\n",
            "\u001b[32m\u001b[1m   Installed\u001b[22m\u001b[39m ShiftedArrays ─ v2.0.0\n",
            "\u001b[32m\u001b[1m   Installed\u001b[22m\u001b[39m GLM ─────────── v1.9.0\n",
            "\u001b[32m\u001b[1m   Installed\u001b[22m\u001b[39m StatsModels ─── v0.7.7\n",
            "\u001b[32m\u001b[1m    Updating\u001b[22m\u001b[39m `~/.julia/environments/v1.11/Project.toml`\n",
            "  \u001b[90m[38e38edf] \u001b[39m\u001b[92m+ GLM v1.9.0\u001b[39m\n",
            "\u001b[32m\u001b[1m    Updating\u001b[22m\u001b[39m `~/.julia/environments/v1.11/Manifest.toml`\n",
            "  \u001b[90m[38e38edf] \u001b[39m\u001b[92m+ GLM v1.9.0\u001b[39m\n",
            "  \u001b[90m[1277b4bf] \u001b[39m\u001b[92m+ ShiftedArrays v2.0.0\u001b[39m\n",
            "  \u001b[90m[3eaba693] \u001b[39m\u001b[92m+ StatsModels v0.7.7\u001b[39m\n",
            "\u001b[92m\u001b[1mPrecompiling\u001b[22m\u001b[39m project...\n",
            "   1828.5 ms\u001b[32m  ✓ \u001b[39m\u001b[90mShiftedArrays\u001b[39m\n",
            "   4349.1 ms\u001b[32m  ✓ \u001b[39m\u001b[90mStatsModels\u001b[39m\n",
            "   5090.2 ms\u001b[32m  ✓ \u001b[39mGLM\n",
            "  3 dependencies successfully precompiled in 13 seconds. 497 already precompiled.\n",
            "\u001b[32m\u001b[1m   Resolving\u001b[22m\u001b[39m package versions...\n",
            "\u001b[32m\u001b[1m  No Changes\u001b[22m\u001b[39m to `~/.julia/environments/v1.11/Project.toml`\n",
            "\u001b[32m\u001b[1m  No Changes\u001b[22m\u001b[39m to `~/.julia/environments/v1.11/Manifest.toml`\n",
            "\u001b[32m\u001b[1m   Resolving\u001b[22m\u001b[39m package versions...\n",
            "\u001b[32m\u001b[1m    Updating\u001b[22m\u001b[39m `~/.julia/environments/v1.11/Project.toml`\n",
            "  \u001b[90m[10745b16] \u001b[39m\u001b[92m+ Statistics v1.11.1\u001b[39m\n",
            "\u001b[32m\u001b[1m  No Changes\u001b[22m\u001b[39m to `~/.julia/environments/v1.11/Manifest.toml`\n"
          ]
        }
      ],
      "source": [
        "# Instalar paquetes\n",
        "using Pkg\n",
        "Pkg.add(\"Distributions\")\n",
        "Pkg.add(\"GLM\")\n",
        "Pkg.add(\"DataFrames\")\n",
        "Pkg.add(\"Statistics\")\n",
        "\n",
        "# Importar librerías\n",
        "using Distributions\n",
        "using GLM\n",
        "using DataFrames\n",
        "using Statistics\n",
        "using Random"
      ]
    },
    {
      "cell_type": "code",
      "execution_count": null,
      "id": "0d41c3ce-790f-4b6a-afd0-8ecc293a2b55",
      "metadata": {
        "colab": {
          "base_uri": "https://localhost:8080/",
          "height": 652
        },
        "id": "0d41c3ce-790f-4b6a-afd0-8ecc293a2b55",
        "outputId": "217d3b4e-8845-4e9b-c578-f323cb6b0205"
      },
      "outputs": [
        {
          "output_type": "execute_result",
          "data": {
            "text/plain": [
              "\u001b[1m1000×6 DataFrame\n",
              "\u001b[1m  Row │\u001b[1m Y         \u001b[1m D     \u001b[1m X1          \u001b[1m X2        \u001b[1m X3          \u001b[1m X4\n",
              "      │\u001b[90m Float64   \u001b[90m Int64 \u001b[90m Float64     \u001b[90m Float64   \u001b[90m Float64     \u001b[90m Float64\n",
              "──────┼────────────────────────────────────────────────────────────────────\n",
              "    1 │  2.77694       1  -0.363357    -0.01988    1.34286     -0.943026\n",
              "    2 │  2.25155       1   0.251737     0.218246  -0.996272     1.23951\n",
              "    3 │  3.4161        1  -0.314988     1.52856    0.573589     1.45273\n",
              "    4 │  0.321127      0  -0.311252    -0.764316   0.167796    -0.886181\n",
              "    5 │  1.00886       0   0.816307    -2.02765    0.109283     2.16943\n",
              "    6 │ -1.05376       0   0.476738     1.02999   -0.531441    -0.148483\n",
              "    7 │ -0.810991      0  -0.859555     0.981408   0.101455    -0.94444\n",
              "    8 │  2.98603       1  -1.46929     -0.513191   1.75233      0.619433\n",
              "    9 │  0.926849      1  -2.11433      0.613236   0.684612    -1.02141\n",
              "   10 │  0.799362      0   0.0437817   -1.59367   -0.0491395   -0.486414\n",
              "   11 │  1.60687       1  -0.825335    -2.03425    1.04681      0.176156\n",
              "  ⋮   │     ⋮        ⋮         ⋮           ⋮           ⋮            ⋮\n",
              "  991 │  0.175584      1   0.28         0.934157  -0.113965     0.00945721\n",
              "  992 │  2.16432       1   0.550027     0.366531   2.23329     -0.406165\n",
              "  993 │  1.03892       0   0.00736517  -1.15799    0.746589     0.591728\n",
              "  994 │  2.7936        1  -0.470876    -0.288312   0.732297     0.82364\n",
              "  995 │  3.30893       1  -0.244912     1.33039    0.507777     0.173703\n",
              "  996 │  2.21815       1   0.31698      0.327991   1.74439      0.585308\n",
              "  997 │  2.05314       1   0.825475     0.810627   0.504309     0.58837\n",
              "  998 │  0.907814      1  -1.926        0.884129  -0.00778745  -1.53147\n",
              "  999 │  5.04953       1   0.976857    -0.167153   1.50228     -0.909742\n",
              " 1000 │  0.906155      0  -0.246344     0.49784    0.518367     0.612763\n",
              "\u001b[36m                                                           979 rows omitted"
            ],
            "text/html": [
              "<div><div style = \"float: left;\"><span>1000×6 DataFrame</span></div><div style = \"float: right;\"><span style = \"font-style: italic;\">975 rows omitted</span></div><div style = \"clear: both;\"></div></div><div class = \"data-frame\" style = \"overflow-x: scroll;\"><table class = \"data-frame\" style = \"margin-bottom: 6px;\"><thead><tr class = \"header\"><th class = \"rowNumber\" style = \"font-weight: bold; text-align: right;\">Row</th><th style = \"text-align: left;\">Y</th><th style = \"text-align: left;\">D</th><th style = \"text-align: left;\">X1</th><th style = \"text-align: left;\">X2</th><th style = \"text-align: left;\">X3</th><th style = \"text-align: left;\">X4</th></tr><tr class = \"subheader headerLastRow\"><th class = \"rowNumber\" style = \"font-weight: bold; text-align: right;\"></th><th title = \"Float64\" style = \"text-align: left;\">Float64</th><th title = \"Int64\" style = \"text-align: left;\">Int64</th><th title = \"Float64\" style = \"text-align: left;\">Float64</th><th title = \"Float64\" style = \"text-align: left;\">Float64</th><th title = \"Float64\" style = \"text-align: left;\">Float64</th><th title = \"Float64\" style = \"text-align: left;\">Float64</th></tr></thead><tbody><tr><td class = \"rowNumber\" style = \"font-weight: bold; text-align: right;\">1</td><td style = \"text-align: right;\">2.77694</td><td style = \"text-align: right;\">1</td><td style = \"text-align: right;\">-0.363357</td><td style = \"text-align: right;\">-0.01988</td><td style = \"text-align: right;\">1.34286</td><td style = \"text-align: right;\">-0.943026</td></tr><tr><td class = \"rowNumber\" style = \"font-weight: bold; text-align: right;\">2</td><td style = \"text-align: right;\">2.25155</td><td style = \"text-align: right;\">1</td><td style = \"text-align: right;\">0.251737</td><td style = \"text-align: right;\">0.218246</td><td style = \"text-align: right;\">-0.996272</td><td style = \"text-align: right;\">1.23951</td></tr><tr><td class = \"rowNumber\" style = \"font-weight: bold; text-align: right;\">3</td><td style = \"text-align: right;\">3.4161</td><td style = \"text-align: right;\">1</td><td style = \"text-align: right;\">-0.314988</td><td style = \"text-align: right;\">1.52856</td><td style = \"text-align: right;\">0.573589</td><td style = \"text-align: right;\">1.45273</td></tr><tr><td class = \"rowNumber\" style = \"font-weight: bold; text-align: right;\">4</td><td style = \"text-align: right;\">0.321127</td><td style = \"text-align: right;\">0</td><td style = \"text-align: right;\">-0.311252</td><td style = \"text-align: right;\">-0.764316</td><td style = \"text-align: right;\">0.167796</td><td style = \"text-align: right;\">-0.886181</td></tr><tr><td class = \"rowNumber\" style = \"font-weight: bold; text-align: right;\">5</td><td style = \"text-align: right;\">1.00886</td><td style = \"text-align: right;\">0</td><td style = \"text-align: right;\">0.816307</td><td style = \"text-align: right;\">-2.02765</td><td style = \"text-align: right;\">0.109283</td><td style = \"text-align: right;\">2.16943</td></tr><tr><td class = \"rowNumber\" style = \"font-weight: bold; text-align: right;\">6</td><td style = \"text-align: right;\">-1.05376</td><td style = \"text-align: right;\">0</td><td style = \"text-align: right;\">0.476738</td><td style = \"text-align: right;\">1.02999</td><td style = \"text-align: right;\">-0.531441</td><td style = \"text-align: right;\">-0.148483</td></tr><tr><td class = \"rowNumber\" style = \"font-weight: bold; text-align: right;\">7</td><td style = \"text-align: right;\">-0.810991</td><td style = \"text-align: right;\">0</td><td style = \"text-align: right;\">-0.859555</td><td style = \"text-align: right;\">0.981408</td><td style = \"text-align: right;\">0.101455</td><td style = \"text-align: right;\">-0.94444</td></tr><tr><td class = \"rowNumber\" style = \"font-weight: bold; text-align: right;\">8</td><td style = \"text-align: right;\">2.98603</td><td style = \"text-align: right;\">1</td><td style = \"text-align: right;\">-1.46929</td><td style = \"text-align: right;\">-0.513191</td><td style = \"text-align: right;\">1.75233</td><td style = \"text-align: right;\">0.619433</td></tr><tr><td class = \"rowNumber\" style = \"font-weight: bold; text-align: right;\">9</td><td style = \"text-align: right;\">0.926849</td><td style = \"text-align: right;\">1</td><td style = \"text-align: right;\">-2.11433</td><td style = \"text-align: right;\">0.613236</td><td style = \"text-align: right;\">0.684612</td><td style = \"text-align: right;\">-1.02141</td></tr><tr><td class = \"rowNumber\" style = \"font-weight: bold; text-align: right;\">10</td><td style = \"text-align: right;\">0.799362</td><td style = \"text-align: right;\">0</td><td style = \"text-align: right;\">0.0437817</td><td style = \"text-align: right;\">-1.59367</td><td style = \"text-align: right;\">-0.0491395</td><td style = \"text-align: right;\">-0.486414</td></tr><tr><td class = \"rowNumber\" style = \"font-weight: bold; text-align: right;\">11</td><td style = \"text-align: right;\">1.60687</td><td style = \"text-align: right;\">1</td><td style = \"text-align: right;\">-0.825335</td><td style = \"text-align: right;\">-2.03425</td><td style = \"text-align: right;\">1.04681</td><td style = \"text-align: right;\">0.176156</td></tr><tr><td class = \"rowNumber\" style = \"font-weight: bold; text-align: right;\">12</td><td style = \"text-align: right;\">0.516809</td><td style = \"text-align: right;\">0</td><td style = \"text-align: right;\">0.840289</td><td style = \"text-align: right;\">0.294576</td><td style = \"text-align: right;\">0.280674</td><td style = \"text-align: right;\">1.23312</td></tr><tr><td class = \"rowNumber\" style = \"font-weight: bold; text-align: right;\">13</td><td style = \"text-align: right;\">-0.711591</td><td style = \"text-align: right;\">0</td><td style = \"text-align: right;\">0.433886</td><td style = \"text-align: right;\">0.804749</td><td style = \"text-align: right;\">-1.03758</td><td style = \"text-align: right;\">-0.302684</td></tr><tr><td style = \"text-align: right;\">&vellip;</td><td style = \"text-align: right;\">&vellip;</td><td style = \"text-align: right;\">&vellip;</td><td style = \"text-align: right;\">&vellip;</td><td style = \"text-align: right;\">&vellip;</td><td style = \"text-align: right;\">&vellip;</td><td style = \"text-align: right;\">&vellip;</td></tr><tr><td class = \"rowNumber\" style = \"font-weight: bold; text-align: right;\">989</td><td style = \"text-align: right;\">2.10364</td><td style = \"text-align: right;\">0</td><td style = \"text-align: right;\">0.755614</td><td style = \"text-align: right;\">-1.62995</td><td style = \"text-align: right;\">1.05766</td><td style = \"text-align: right;\">0.590294</td></tr><tr><td class = \"rowNumber\" style = \"font-weight: bold; text-align: right;\">990</td><td style = \"text-align: right;\">-1.26683</td><td style = \"text-align: right;\">0</td><td style = \"text-align: right;\">-1.70365</td><td style = \"text-align: right;\">0.572462</td><td style = \"text-align: right;\">0.306349</td><td style = \"text-align: right;\">-0.259419</td></tr><tr><td class = \"rowNumber\" style = \"font-weight: bold; text-align: right;\">991</td><td style = \"text-align: right;\">0.175584</td><td style = \"text-align: right;\">1</td><td style = \"text-align: right;\">0.28</td><td style = \"text-align: right;\">0.934157</td><td style = \"text-align: right;\">-0.113965</td><td style = \"text-align: right;\">0.00945721</td></tr><tr><td class = \"rowNumber\" style = \"font-weight: bold; text-align: right;\">992</td><td style = \"text-align: right;\">2.16432</td><td style = \"text-align: right;\">1</td><td style = \"text-align: right;\">0.550027</td><td style = \"text-align: right;\">0.366531</td><td style = \"text-align: right;\">2.23329</td><td style = \"text-align: right;\">-0.406165</td></tr><tr><td class = \"rowNumber\" style = \"font-weight: bold; text-align: right;\">993</td><td style = \"text-align: right;\">1.03892</td><td style = \"text-align: right;\">0</td><td style = \"text-align: right;\">0.00736517</td><td style = \"text-align: right;\">-1.15799</td><td style = \"text-align: right;\">0.746589</td><td style = \"text-align: right;\">0.591728</td></tr><tr><td class = \"rowNumber\" style = \"font-weight: bold; text-align: right;\">994</td><td style = \"text-align: right;\">2.7936</td><td style = \"text-align: right;\">1</td><td style = \"text-align: right;\">-0.470876</td><td style = \"text-align: right;\">-0.288312</td><td style = \"text-align: right;\">0.732297</td><td style = \"text-align: right;\">0.82364</td></tr><tr><td class = \"rowNumber\" style = \"font-weight: bold; text-align: right;\">995</td><td style = \"text-align: right;\">3.30893</td><td style = \"text-align: right;\">1</td><td style = \"text-align: right;\">-0.244912</td><td style = \"text-align: right;\">1.33039</td><td style = \"text-align: right;\">0.507777</td><td style = \"text-align: right;\">0.173703</td></tr><tr><td class = \"rowNumber\" style = \"font-weight: bold; text-align: right;\">996</td><td style = \"text-align: right;\">2.21815</td><td style = \"text-align: right;\">1</td><td style = \"text-align: right;\">0.31698</td><td style = \"text-align: right;\">0.327991</td><td style = \"text-align: right;\">1.74439</td><td style = \"text-align: right;\">0.585308</td></tr><tr><td class = \"rowNumber\" style = \"font-weight: bold; text-align: right;\">997</td><td style = \"text-align: right;\">2.05314</td><td style = \"text-align: right;\">1</td><td style = \"text-align: right;\">0.825475</td><td style = \"text-align: right;\">0.810627</td><td style = \"text-align: right;\">0.504309</td><td style = \"text-align: right;\">0.58837</td></tr><tr><td class = \"rowNumber\" style = \"font-weight: bold; text-align: right;\">998</td><td style = \"text-align: right;\">0.907814</td><td style = \"text-align: right;\">1</td><td style = \"text-align: right;\">-1.926</td><td style = \"text-align: right;\">0.884129</td><td style = \"text-align: right;\">-0.00778745</td><td style = \"text-align: right;\">-1.53147</td></tr><tr><td class = \"rowNumber\" style = \"font-weight: bold; text-align: right;\">999</td><td style = \"text-align: right;\">5.04953</td><td style = \"text-align: right;\">1</td><td style = \"text-align: right;\">0.976857</td><td style = \"text-align: right;\">-0.167153</td><td style = \"text-align: right;\">1.50228</td><td style = \"text-align: right;\">-0.909742</td></tr><tr><td class = \"rowNumber\" style = \"font-weight: bold; text-align: right;\">1000</td><td style = \"text-align: right;\">0.906155</td><td style = \"text-align: right;\">0</td><td style = \"text-align: right;\">-0.246344</td><td style = \"text-align: right;\">0.49784</td><td style = \"text-align: right;\">0.518367</td><td style = \"text-align: right;\">0.612763</td></tr></tbody></table></div>"
            ],
            "text/latex": "\\begin{tabular}{r|cccccc}\n\t& Y & D & X1 & X2 & X3 & X4\\\\\n\t\\hline\n\t& Float64 & Int64 & Float64 & Float64 & Float64 & Float64\\\\\n\t\\hline\n\t1 & 2.77694 & 1 & -0.363357 & -0.01988 & 1.34286 & -0.943026 \\\\\n\t2 & 2.25155 & 1 & 0.251737 & 0.218246 & -0.996272 & 1.23951 \\\\\n\t3 & 3.4161 & 1 & -0.314988 & 1.52856 & 0.573589 & 1.45273 \\\\\n\t4 & 0.321127 & 0 & -0.311252 & -0.764316 & 0.167796 & -0.886181 \\\\\n\t5 & 1.00886 & 0 & 0.816307 & -2.02765 & 0.109283 & 2.16943 \\\\\n\t6 & -1.05376 & 0 & 0.476738 & 1.02999 & -0.531441 & -0.148483 \\\\\n\t7 & -0.810991 & 0 & -0.859555 & 0.981408 & 0.101455 & -0.94444 \\\\\n\t8 & 2.98603 & 1 & -1.46929 & -0.513191 & 1.75233 & 0.619433 \\\\\n\t9 & 0.926849 & 1 & -2.11433 & 0.613236 & 0.684612 & -1.02141 \\\\\n\t10 & 0.799362 & 0 & 0.0437817 & -1.59367 & -0.0491395 & -0.486414 \\\\\n\t11 & 1.60687 & 1 & -0.825335 & -2.03425 & 1.04681 & 0.176156 \\\\\n\t12 & 0.516809 & 0 & 0.840289 & 0.294576 & 0.280674 & 1.23312 \\\\\n\t13 & -0.711591 & 0 & 0.433886 & 0.804749 & -1.03758 & -0.302684 \\\\\n\t14 & -0.443662 & 0 & -0.39544 & 1.7575 & -0.430576 & 0.541407 \\\\\n\t15 & 0.178961 & 0 & 0.517131 & 0.117499 & -0.559457 & -1.26314 \\\\\n\t16 & 4.1547 & 1 & 1.44722 & -0.955619 & -0.0131665 & -0.00121655 \\\\\n\t17 & 2.80111 & 1 & -0.0930779 & -0.538193 & 0.31792 & -0.953291 \\\\\n\t18 & 2.01392 & 1 & -1.27259 & -0.156116 & -1.51145 & -1.81022 \\\\\n\t19 & 0.967674 & 1 & -0.310744 & 2.42725 & 0.0158016 & -0.778034 \\\\\n\t20 & -1.4088 & 0 & -0.096581 & 0.406467 & -1.49492 & -0.044818 \\\\\n\t21 & 1.2711 & 1 & -1.38281 & -0.868625 & -2.03811 & -0.195998 \\\\\n\t22 & -0.485015 & 0 & -1.46245 & -2.23091 & -0.711808 & -1.18171 \\\\\n\t23 & 3.23523 & 1 & 1.30097 & 0.654078 & -0.76806 & 0.692486 \\\\\n\t24 & 1.43843 & 1 & 2.26628 & 1.948 & 1.01084 & 0.0400893 \\\\\n\t25 & 2.53498 & 1 & 1.51239 & -0.242922 & -0.156973 & -0.799138 \\\\\n\t26 & 0.236797 & 0 & 0.648849 & -0.0351687 & 0.770422 & -1.24535 \\\\\n\t27 & 3.46048 & 1 & 0.899944 & -1.99888 & 0.506532 & -0.730052 \\\\\n\t28 & -0.639016 & 0 & 0.284158 & 1.30618 & -1.34677 & -0.246789 \\\\\n\t29 & 1.81584 & 1 & 1.10359 & -0.796568 & -0.854798 & 0.00795014 \\\\\n\t30 & 2.48168 & 1 & 0.663883 & 0.212616 & -0.552693 & -0.0650703 \\\\\n\t$\\dots$ & $\\dots$ & $\\dots$ & $\\dots$ & $\\dots$ & $\\dots$ & $\\dots$ \\\\\n\\end{tabular}\n"
          },
          "metadata": {},
          "execution_count": 2
        }
      ],
      "source": [
        "# Data Simulation\n",
        "Random.seed!(42)\n",
        "n = 1000\n",
        "\n",
        "# Generar covariables\n",
        "X1 = rand(Normal(0, 1), n)\n",
        "X2 = rand(Normal(0, 1), n)\n",
        "X3 = rand(Normal(0, 1), n)\n",
        "X4 = rand(Normal(0, 1), n)\n",
        "\n",
        "# Tratamiento (Bernoulli)\n",
        "D = rand(Binomial(1, 0.5), n)\n",
        "\n",
        "# Término de error\n",
        "epsilon = rand(Normal(0, 1), n)\n",
        "\n",
        "# Outcome variable\n",
        "Y = 2 .* D + 0.5 .* X1 - 0.3 .* X2 + 0.2 .* X3 + epsilon\n",
        "\n",
        "# Data frame\n",
        "df = DataFrame(Y=Y, D=D, X1=X1, X2=X2, X3=X3, X4=X4)\n",
        "df"
      ]
    },
    {
      "cell_type": "code",
      "execution_count": null,
      "id": "7358592c-985c-4914-be63-d024a82976e9",
      "metadata": {
        "colab": {
          "base_uri": "https://localhost:8080/"
        },
        "id": "7358592c-985c-4914-be63-d024a82976e9",
        "outputId": "ce1a1cc4-cfc5-4c12-c295-3f4faf729fe2"
      },
      "outputs": [
        {
          "output_type": "stream",
          "name": "stdout",
          "text": [
            "Balance Check\n",
            "============================================================\n",
            "  Variable Tratamiento     Control  Diferencia     p-value\n",
            "------------------------------------------------------------\n",
            "        X1     -0.0551     -0.0654      0.0104      0.8683\n",
            "        X2      0.0523     -0.0158      0.0681       0.289\n",
            "        X3       0.047      0.0031      0.0439      0.4802\n",
            "        X4      0.0084     -0.0428      0.0512      0.4283\n"
          ]
        }
      ],
      "source": [
        "# Prueba de balance\n",
        "println(\"Balance Check\")\n",
        "println(\"=\"^60)\n",
        "println(lpad(\"Variable\", 10) * lpad(\"Tratamiento\", 12) * lpad(\"Control\", 12) * lpad(\"Diferencia\", 12) * lpad(\"p-value\", 12))\n",
        "println(\"-\"^60)\n",
        "\n",
        "covariate_names = [:X1, :X2, :X3, :X4]\n",
        "\n",
        "for cov_name in covariate_names\n",
        "    mean_treated = mean(df[df.D .== 1, cov_name])\n",
        "    mean_control = mean(df[df.D .== 0, cov_name])\n",
        "    diff = mean_treated - mean_control\n",
        "    cov_data = df[:, cov_name] .- mean(df[:, cov_name])\n",
        "    D_data = df.D .- mean(df.D)\n",
        "    model = lm([D_data;;], cov_data)\n",
        "\n",
        "    coeftable_result = coeftable(model)\n",
        "    p_value = coeftable_result.cols[4][1]\n",
        "\n",
        "    println(lpad(string(cov_name), 10) *\n",
        "            lpad(round(mean_treated, digits=4), 12) *\n",
        "            lpad(round(mean_control, digits=4), 12) *\n",
        "            lpad(round(diff, digits=4), 12) *\n",
        "            lpad(round(p_value, digits=4), 12))\n",
        "end"
      ]
    },
    {
      "cell_type": "markdown",
      "id": "730df521-dc4b-42c8-a2ce-f9fb2eabd257",
      "metadata": {
        "id": "730df521-dc4b-42c8-a2ce-f9fb2eabd257"
      },
      "source": [
        "# Estimating the Average Treatment Effect\n",
        "Estimate the treatment effect (ATE) using a simple regression:\n",
        "$Y \\sim D$\n",
        "\n",
        "Estimate the ATE controlling for all covariates:\n",
        "$Y \\sim D + X_1 + X_2 + X_3 + X_4$\n",
        "\n",
        "Compare the two estimates. Answer the following:\n",
        "*   Does the ATE change?\n",
        "*   What happens to the standard errors?"
      ]
    },
    {
      "cell_type": "code",
      "execution_count": null,
      "id": "72c8a386-1e1b-476f-bd9b-116c7c4e2d8a",
      "metadata": {
        "colab": {
          "base_uri": "https://localhost:8080/"
        },
        "id": "72c8a386-1e1b-476f-bd9b-116c7c4e2d8a",
        "outputId": "4b09615a-2be0-4781-d192-69484649b1c2"
      },
      "outputs": [
        {
          "output_type": "stream",
          "name": "stdout",
          "text": [
            "\n",
            "============================================================\n",
            "Average Treatment Effect Estimation\n",
            "============================================================\n",
            "Model 1: Y ~ D\n",
            "Modelo 1 - Y ~ D:\n",
            "\u001b[1m2×5 DataFrame\n",
            "\u001b[1m Row │\u001b[1m Variable    \u001b[1m Coef    \u001b[1m Std_Error \u001b[1m t_value \u001b[1m p_value\n",
            "     │\u001b[90m String      \u001b[90m Float64 \u001b[90m Float64   \u001b[90m Float64 \u001b[90m Float64\n",
            "─────┼───────────────────────────────────────────────────\n",
            "   1 │ (Intercept)  -0.0579     0.0519  -1.1154    0.265\n",
            "   2 │ D             1.9813     0.0725  27.3211    0.0\n",
            "\n",
            "----------------------------------------\n",
            "Model 2: Y ~ D + X1 + X2 + X3 + X4\n",
            "Modelo 2 - Y ~ D + X1 + X2 + X3 + X4:\n",
            "\u001b[1m6×5 DataFrame\n",
            "\u001b[1m Row │\u001b[1m Variable    \u001b[1m Coef    \u001b[1m Std_Error \u001b[1m t_value  \u001b[1m p_value\n",
            "     │\u001b[90m String      \u001b[90m Float64 \u001b[90m Float64   \u001b[90m Float64  \u001b[90m Float64\n",
            "─────┼────────────────────────────────────────────────────\n",
            "   1 │ (Intercept)  -0.0317     0.0441   -0.72     0.4717\n",
            "   2 │ D             1.9861     0.0615   32.2858   0.0\n",
            "   3 │ X1            0.4721     0.0311   15.1661   0.0\n",
            "   4 │ X2           -0.3148     0.0303  -10.3915   0.0\n",
            "   5 │ X3            0.2392     0.0313    7.6464   0.0\n",
            "   6 │ X4            0.0241     0.0301    0.7993   0.4243\n"
          ]
        }
      ],
      "source": [
        "# Estimación del ATE\n",
        "println(\"\\n\" * \"=\"^60)\n",
        "println(\"Average Treatment Effect Estimation\")\n",
        "println(\"=\"^60)\n",
        "\n",
        "# Modelo 1: Regresión simple Y ~ D\n",
        "println(\"Model 1: Y ~ D\")\n",
        "model1 = lm(@formula(Y ~ D), df)\n",
        "coef_table1 = coeftable(model1)\n",
        "\n",
        "results_df1 = DataFrame(\n",
        "    Variable = coef_table1.rownms,\n",
        "    Coef = round.(coef_table1.cols[1], digits=4),\n",
        "    Std_Error = round.(coef_table1.cols[2], digits=4),\n",
        "    t_value = round.(coef_table1.cols[3], digits=4),\n",
        "    p_value = round.(coef_table1.cols[4], digits=4)\n",
        ")\n",
        "\n",
        "println(\"Modelo 1 - Y ~ D:\")\n",
        "println(results_df1)\n",
        "println(\"\\n\" * \"-\"^40)\n",
        "\n",
        "# Modelo 2: Regresión con covariables\n",
        "println(\"Model 2: Y ~ D + X1 + X2 + X3 + X4\")\n",
        "model2 = lm(@formula(Y ~ D + X1 + X2 + X3 + X4), df)\n",
        "coef_table2 = coeftable(model2)\n",
        "\n",
        "results_df2 = DataFrame(\n",
        "    Variable = coef_table2.rownms,\n",
        "    Coef = round.(coef_table2.cols[1], digits=4),\n",
        "    Std_Error = round.(coef_table2.cols[2], digits=4),\n",
        "    t_value = round.(coef_table2.cols[3], digits=4),\n",
        "    p_value = round.(coef_table2.cols[4], digits=4)\n",
        ")\n",
        "\n",
        "println(\"Modelo 2 - Y ~ D + X1 + X2 + X3 + X4:\")\n",
        "println(results_df2)"
      ]
    },
    {
      "cell_type": "markdown",
      "id": "93d98c3e-5bf5-4eb8-a525-614fc2aa5224",
      "metadata": {
        "id": "93d98c3e-5bf5-4eb8-a525-614fc2aa5224"
      },
      "source": [
        "## Comparación de las Estimaciones del ATE\n",
        "\n",
        "### ¿Cambia el ATE?\n",
        "\n",
        "Sí, el ATE cambia ligeramente:\n",
        "- **Modelo 1** (sin controles): ATE = 1.9813\n",
        "- **Modelo 2** (con controles): ATE = 1.9861\n",
        "\n",
        "La diferencia es de aproximadamente 0.0048. El ATE aumenta ligeramente cuando controlamos por las covariables, acercándose más al valor real de 2.0 que usamos en la simulación de datos.\n",
        "\n",
        "### ¿Qué pasa con los errores estándar?\n",
        "\n",
        "Los errores estándar mejoran (disminuyen).\n",
        "- **Modelo 1**: std err = 0.0725\n",
        "- **Modelo 2**: std err = 0.0615\n",
        "\n",
        "El error estándar se reduce en aproximadamente 15%. Esto indica que:\n",
        "\n",
        "1. Mayor precisión: La estimación del ATE es más precisa cuando incluimos controles\n",
        "2. Intervalos de confianza más estrechos:\n",
        "   - Modelo 1: [1.839, 2.124]\n",
        "   - Modelo 2: [1.865, 2.107]\n",
        "3. Menor variabilidad: Los controles explican parte de la varianza residual en Y\n",
        "\n",
        "### Conclusión\n",
        "\n",
        "Incluir covariables relevantes (especialmente X₁, X₂, X₃, que son predictores de Y) no solo mejora la precisión del estimador, sino que también corrige ligeramente el sesgo de asignación, acercando el ATE estimado al valor verdadero del efecto causal."
      ]
    },
    {
      "cell_type": "markdown",
      "source": [
        "# LASSO and Variable Selection"
      ],
      "metadata": {
        "id": "OhsKXGcskkIA"
      },
      "id": "OhsKXGcskkIA"
    },
    {
      "cell_type": "markdown",
      "source": [
        "\n",
        "- Use `cv.glmnet` to fit a LASSO model of ($Y$) on the covariates \\($X_1$, ..., $X_q$), excluding the treatment.  \n",
        "  - Report which covariates are selected at ($\\lambda_{min}$).\n",
        "\n",
        "- Re-estimate the ATE with only the covariates selected by LASSO:  \n",
        "\n",
        "  \\[\n",
        "  $Y \\sim D + X_{selected}$\n",
        "  \\]\n",
        "\n",
        "- Compare this estimate with those from Part B. Discuss whether the accuracy changes and what advantages using LASSO might have in this context.\n"
      ],
      "metadata": {
        "id": "kHzTySu3km9o"
      },
      "id": "kHzTySu3km9o"
    },
    {
      "cell_type": "code",
      "source": [
        "using Pkg\n",
        "Pkg.add(\"StatsModels\")"
      ],
      "metadata": {
        "colab": {
          "base_uri": "https://localhost:8080/"
        },
        "id": "KSWGdCi6hptc",
        "outputId": "8b89b120-22ce-42b5-f817-e01bd296e5d7"
      },
      "id": "KSWGdCi6hptc",
      "execution_count": null,
      "outputs": [
        {
          "output_type": "stream",
          "name": "stderr",
          "text": [
            "\u001b[32m\u001b[1m   Resolving\u001b[22m\u001b[39m package versions...\n",
            "\u001b[32m\u001b[1m    Updating\u001b[22m\u001b[39m `~/.julia/environments/v1.11/Project.toml`\n",
            "  \u001b[90m[3eaba693] \u001b[39m\u001b[92m+ StatsModels v0.7.7\u001b[39m\n",
            "\u001b[32m\u001b[1m  No Changes\u001b[22m\u001b[39m to `~/.julia/environments/v1.11/Manifest.toml`\n"
          ]
        }
      ]
    },
    {
      "cell_type": "code",
      "source": [
        "using GLMNet\n",
        "using GLM\n",
        "using DataFrames\n",
        "using Statistics\n",
        "using StatsModels"
      ],
      "metadata": {
        "id": "z5GzmJp5XRKy"
      },
      "id": "z5GzmJp5XRKy",
      "execution_count": null,
      "outputs": []
    },
    {
      "cell_type": "code",
      "source": [
        "println(\"LASSO variable selection (excluye D)\")\n",
        "println(\"=\"^60)\n",
        "\n",
        "# solo covariables (excluye D) y outcome\n",
        "covariate_syms = [:X1, :X2, :X3, :X4]\n",
        "X = Matrix(df[:, covariate_syms])\n",
        "y = df.Y\n",
        "\n",
        "# estandarización (penalización simétrica)\n",
        "X_std = (X .- mean(X, dims=1)) ./ std(X, dims=1)\n",
        "\n",
        "# LASSO\n",
        "cv_lasso = glmnetcv(X_std, y, alpha=1.0)  # nfolds=10 por defecto\n",
        "idx_min = argmin(cv_lasso.meanloss)\n",
        "lambda_min = cv_lasso.lambda[idx_min]\n",
        "betas_min = cv_lasso.path.betas[:, idx_min]  # sin intercepto\n",
        "\n",
        "# selección de variables\n",
        "selected_mask = abs.(betas_min) .> 1e-10 # (umbral pequeño)\n",
        "selected_vars = String.(covariate_syms[selected_mask])\n",
        "\n",
        "println(\"λ_min:\", lambda_min)\n",
        "println(\"Covariables seleccionadas:\", isempty(selected_vars) ? \"Ninguna\" : join(selected_vars, \", \"))\n",
        "\n",
        "# re-estimar ATE: Y ~ D + X_selected (OLS)\n",
        "if isempty(selected_vars)\n",
        "    fml = @formula(Y ~ D)\n",
        "else\n",
        "    # Construir fórmula dinámicamente con StatsModels.Term\n",
        "    terms = Term.(Symbol.(selected_vars))\n",
        "    fml = Term(:Y) ~ Term(:D) + sum(terms)\n",
        "end\n",
        "\n",
        "model3 = lm(fml, df)\n",
        "\n",
        "\n",
        "println(\"\\n\", \"=\"^60)\n",
        "println(\"ATE con covariables seleccionadas (OLS)\")\n",
        "print(coeftable(model3))\n"
      ],
      "metadata": {
        "colab": {
          "base_uri": "https://localhost:8080/"
        },
        "id": "yOgtblsXhfXG",
        "outputId": "dc112ce4-7d0c-4cc0-d15b-946680c3fccc"
      },
      "id": "yOgtblsXhfXG",
      "execution_count": null,
      "outputs": [
        {
          "output_type": "stream",
          "name": "stdout",
          "text": [
            "LASSO variable selection (excluye D)\n",
            "============================================================\n",
            "λ_min:0.0019581205870411035\n",
            "Covariables seleccionadas:X1, X2, X3, X4\n",
            "\n",
            "============================================================\n",
            "ATE con covariables seleccionadas (OLS)\n",
            "─────────────────────────────────────────────────────────────────────────────\n",
            "                  Coef.  Std. Error       t  Pr(>|t|)   Lower 95%   Upper 95%\n",
            "─────────────────────────────────────────────────────────────────────────────\n",
            "(Intercept)  -0.0317374   0.0440796   -0.72    0.4717  -0.118237    0.0547625\n",
            "D             1.98609     0.061516    32.29    <1e-99   1.86538     2.10681\n",
            "X1            0.472135    0.031131    15.17    <1e-46   0.411045    0.533225\n",
            "X2           -0.314794    0.0302934  -10.39    <1e-23  -0.374241   -0.255348\n",
            "X3            0.239177    0.0312796    7.65    <1e-13   0.177796    0.300559\n",
            "X4            0.0240627   0.0301049    0.80    0.4243  -0.0350137   0.0831391\n",
            "─────────────────────────────────────────────────────────────────────────────"
          ]
        }
      ]
    },
    {
      "cell_type": "markdown",
      "source": [
        "El ATE estimado con LASSO (≈1.99) es prácticamente igual al obtenido con todas las covariables en el Modelo 2 (≈2.04). Vemos que LASSO retiene X4, aún siendo irrelevante en el DGP. Esto refleja que con λ_min la penalización es débil. Sin embargo, esto no afecta la estimación principal del ATE, que sigue siendo precisa y cercana al valor verdadero."
      ],
      "metadata": {
        "id": "siXOl3kNjRwX"
      },
      "id": "siXOl3kNjRwX"
    }
  ],
  "metadata": {
    "kernelspec": {
      "display_name": "Julia",
      "name": "julia"
    },
    "language_info": {
      "name": "julia"
    },
    "colab": {
      "provenance": [],
      "toc_visible": true
    }
  },
  "nbformat": 4,
  "nbformat_minor": 5
}